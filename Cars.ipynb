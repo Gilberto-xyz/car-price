{
 "cells": [
  {
   "cell_type": "markdown",
   "metadata": {},
   "source": [
    "# <p style=\"background: #F58A07; color:white; font-size:250%; text-align:Center; border-radius: 20px 100px;\"> 💸 Precios de automoviles usados 💹 </p>\n"
   ]
  },
  {
   "cell_type": "markdown",
   "metadata": {},
   "source": [
    "## <p style=\"background-color:#ffb703; color:black; font-family:newtimeroman; font-size:200%; text-align:left; border-radius: 10px 10px;\"> 🔎 Análisis Exploratorio de Datos - EDA </p>"
   ]
  },
  {
   "cell_type": "code",
   "execution_count": 1,
   "metadata": {},
   "outputs": [
    {
     "data": {
      "text/html": [
       "<div>\n",
       "<style scoped>\n",
       "    .dataframe tbody tr th:only-of-type {\n",
       "        vertical-align: middle;\n",
       "    }\n",
       "\n",
       "    .dataframe tbody tr th {\n",
       "        vertical-align: top;\n",
       "    }\n",
       "\n",
       "    .dataframe thead th {\n",
       "        text-align: right;\n",
       "    }\n",
       "</style>\n",
       "<table border=\"1\" class=\"dataframe\">\n",
       "  <thead>\n",
       "    <tr style=\"text-align: right;\">\n",
       "      <th></th>\n",
       "      <th>maker</th>\n",
       "      <th>model</th>\n",
       "      <th>year</th>\n",
       "      <th>transmission</th>\n",
       "      <th>mileage</th>\n",
       "      <th>fuelType</th>\n",
       "      <th>tax</th>\n",
       "      <th>mpg</th>\n",
       "      <th>engineSize</th>\n",
       "      <th>price</th>\n",
       "    </tr>\n",
       "  </thead>\n",
       "  <tbody>\n",
       "    <tr>\n",
       "      <th>0</th>\n",
       "      <td>cclass</td>\n",
       "      <td>C Class</td>\n",
       "      <td>2020</td>\n",
       "      <td>Automatic</td>\n",
       "      <td>1200</td>\n",
       "      <td>Diesel</td>\n",
       "      <td>NaN</td>\n",
       "      <td>NaN</td>\n",
       "      <td>2.0</td>\n",
       "      <td>30495</td>\n",
       "    </tr>\n",
       "    <tr>\n",
       "      <th>1</th>\n",
       "      <td>cclass</td>\n",
       "      <td>C Class</td>\n",
       "      <td>2020</td>\n",
       "      <td>Automatic</td>\n",
       "      <td>1000</td>\n",
       "      <td>Petrol</td>\n",
       "      <td>NaN</td>\n",
       "      <td>NaN</td>\n",
       "      <td>1.5</td>\n",
       "      <td>29989</td>\n",
       "    </tr>\n",
       "    <tr>\n",
       "      <th>2</th>\n",
       "      <td>cclass</td>\n",
       "      <td>C Class</td>\n",
       "      <td>2020</td>\n",
       "      <td>Automatic</td>\n",
       "      <td>500</td>\n",
       "      <td>Diesel</td>\n",
       "      <td>NaN</td>\n",
       "      <td>NaN</td>\n",
       "      <td>2.0</td>\n",
       "      <td>37899</td>\n",
       "    </tr>\n",
       "    <tr>\n",
       "      <th>3</th>\n",
       "      <td>cclass</td>\n",
       "      <td>C Class</td>\n",
       "      <td>2019</td>\n",
       "      <td>Automatic</td>\n",
       "      <td>5000</td>\n",
       "      <td>Diesel</td>\n",
       "      <td>NaN</td>\n",
       "      <td>NaN</td>\n",
       "      <td>2.0</td>\n",
       "      <td>30399</td>\n",
       "    </tr>\n",
       "    <tr>\n",
       "      <th>4</th>\n",
       "      <td>cclass</td>\n",
       "      <td>C Class</td>\n",
       "      <td>2019</td>\n",
       "      <td>Automatic</td>\n",
       "      <td>4500</td>\n",
       "      <td>Diesel</td>\n",
       "      <td>NaN</td>\n",
       "      <td>NaN</td>\n",
       "      <td>2.0</td>\n",
       "      <td>29899</td>\n",
       "    </tr>\n",
       "  </tbody>\n",
       "</table>\n",
       "</div>"
      ],
      "text/plain": [
       "    maker     model  year transmission  mileage fuelType  tax  mpg  \\\n",
       "0  cclass   C Class  2020    Automatic     1200   Diesel  NaN  NaN   \n",
       "1  cclass   C Class  2020    Automatic     1000   Petrol  NaN  NaN   \n",
       "2  cclass   C Class  2020    Automatic      500   Diesel  NaN  NaN   \n",
       "3  cclass   C Class  2019    Automatic     5000   Diesel  NaN  NaN   \n",
       "4  cclass   C Class  2019    Automatic     4500   Diesel  NaN  NaN   \n",
       "\n",
       "   engineSize  price  \n",
       "0         2.0  30495  \n",
       "1         1.5  29989  \n",
       "2         2.0  37899  \n",
       "3         2.0  30399  \n",
       "4         2.0  29899  "
      ]
     },
     "execution_count": 1,
     "metadata": {},
     "output_type": "execute_result"
    }
   ],
   "source": [
    "# Librerias iniciales\n",
    "import pandas as pd \n",
    "\n",
    "# Carga del dataset\n",
    "cars = pd.read_csv('data/CarsUK.csv')\n",
    "\n",
    "# primeros 10 reguistros del dataset\n",
    "cars.head()"
   ]
  },
  {
   "cell_type": "code",
   "execution_count": 2,
   "metadata": {},
   "outputs": [],
   "source": [
    "from pandas_profiling import ProfileReport\n",
    "\n",
    "profile = ProfileReport(cars, title='Análisis del conjunto de datos de automóviles en bruto', explorative=True)"
   ]
  },
  {
   "cell_type": "code",
   "execution_count": 3,
   "metadata": {},
   "outputs": [
    {
     "name": "stderr",
     "output_type": "stream",
     "text": [
      "Summarize dataset: 100%|██████████| 61/61 [00:13<00:00,  4.46it/s, Completed]                     \n",
      "Generate report structure: 100%|██████████| 1/1 [00:03<00:00,  3.18s/it]\n",
      "Render HTML: 100%|██████████| 1/1 [00:01<00:00,  1.56s/it]\n",
      "Export report to file: 100%|██████████| 1/1 [00:00<00:00, 95.86it/s]\n"
     ]
    }
   ],
   "source": [
    "# Primeros pasos en el dataset, brinda una extensa información sobre el dataset, como la cantidad de registros, la cantidad de columnas, etc.\n",
    "# Tomando como punto de partida el reporte anterior, se puede decidir que hacer con los datos que se encuentran disponibles.\n",
    "\n",
    "profile.to_file('reporte_cars.html')"
   ]
  },
  {
   "cell_type": "markdown",
   "metadata": {},
   "source": [
    "## <p style=\"background-color:#ffb703; color:black; font-family:newtimeroman; font-size:200%; text-align:left; border-radius: 10px 10px;\"> 🔮 Feature engineering </p>"
   ]
  },
  {
   "cell_type": "code",
   "execution_count": 4,
   "metadata": {},
   "outputs": [
    {
     "data": {
      "text/plain": [
       "108540"
      ]
     },
     "execution_count": 4,
     "metadata": {},
     "output_type": "execute_result"
    }
   ],
   "source": [
    "# En el reporte se destaca que existen datos duplicados en el dataset. \n",
    "\n",
    "# Mostramos la cantidad de registros\n",
    "len(cars)"
   ]
  },
  {
   "cell_type": "code",
   "execution_count": 5,
   "metadata": {},
   "outputs": [
    {
     "data": {
      "text/plain": [
       "2273"
      ]
     },
     "execution_count": 5,
     "metadata": {},
     "output_type": "execute_result"
    }
   ],
   "source": [
    "# Mostramos la cantidad de registros duplicados\n",
    "cars.duplicated().sum()"
   ]
  },
  {
   "cell_type": "code",
   "execution_count": 6,
   "metadata": {},
   "outputs": [],
   "source": [
    "# Eliminamos los registros duplicados\n",
    "cars = cars.drop_duplicates(keep='first')"
   ]
  },
  {
   "cell_type": "code",
   "execution_count": 7,
   "metadata": {},
   "outputs": [
    {
     "data": {
      "text/plain": [
       "106267"
      ]
     },
     "execution_count": 7,
     "metadata": {},
     "output_type": "execute_result"
    }
   ],
   "source": [
    "# Mostramos la cantidad de registros (actualizado)\n",
    "len(cars)"
   ]
  },
  {
   "cell_type": "markdown",
   "metadata": {},
   "source": [
    "## <p style=\"background-color:#ffb703; color:black; font-family:newtimeroman; font-size:200%; text-align:left; border-radius: 10px 10px;\"> 🪓 Dividir el dataset </p>"
   ]
  },
  {
   "cell_type": "code",
   "execution_count": 8,
   "metadata": {},
   "outputs": [],
   "source": [
    "# Librerias para dividir mejor el dataset\n",
    "from sklearn.model_selection import train_test_split\n",
    "\n",
    "import numpy as np"
   ]
  },
  {
   "cell_type": "code",
   "execution_count": 9,
   "metadata": {},
   "outputs": [
    {
     "name": "stdout",
     "output_type": "stream",
     "text": [
      "[63759 21254 21254]\n",
      "[0.59998871 0.20000565 0.20000565]\n"
     ]
    }
   ],
   "source": [
    "\n",
    "rest, test = train_test_split(cars, test_size=0.2, shuffle=True) # 20% de 100 = 20\n",
    "\n",
    "train, val = train_test_split(rest, test_size=0.25,shuffle=True ) # 25% de 80 = 20\n",
    "\n",
    "distributions = np.array([len(train), len(val), len(test)])\n",
    "\n",
    "print(distributions)\n",
    "print(distributions/ len(cars))"
   ]
  },
  {
   "cell_type": "code",
   "execution_count": 10,
   "metadata": {},
   "outputs": [],
   "source": [
    "# ??cars.drop_duplicates"
   ]
  },
  {
   "cell_type": "code",
   "execution_count": 11,
   "metadata": {},
   "outputs": [
    {
     "data": {
      "text/html": [
       "<div>\n",
       "<style scoped>\n",
       "    .dataframe tbody tr th:only-of-type {\n",
       "        vertical-align: middle;\n",
       "    }\n",
       "\n",
       "    .dataframe tbody tr th {\n",
       "        vertical-align: top;\n",
       "    }\n",
       "\n",
       "    .dataframe thead th {\n",
       "        text-align: right;\n",
       "    }\n",
       "</style>\n",
       "<table border=\"1\" class=\"dataframe\">\n",
       "  <thead>\n",
       "    <tr style=\"text-align: right;\">\n",
       "      <th></th>\n",
       "      <th>maker</th>\n",
       "    </tr>\n",
       "  </thead>\n",
       "  <tbody>\n",
       "    <tr>\n",
       "      <th>46489</th>\n",
       "      <td>ford</td>\n",
       "    </tr>\n",
       "    <tr>\n",
       "      <th>3921</th>\n",
       "      <td>focus</td>\n",
       "    </tr>\n",
       "    <tr>\n",
       "      <th>106720</th>\n",
       "      <td>merc</td>\n",
       "    </tr>\n",
       "    <tr>\n",
       "      <th>62995</th>\n",
       "      <td>vauxhall</td>\n",
       "    </tr>\n",
       "    <tr>\n",
       "      <th>71019</th>\n",
       "      <td>bmw</td>\n",
       "    </tr>\n",
       "    <tr>\n",
       "      <th>...</th>\n",
       "      <td>...</td>\n",
       "    </tr>\n",
       "    <tr>\n",
       "      <th>74749</th>\n",
       "      <td>bmw</td>\n",
       "    </tr>\n",
       "    <tr>\n",
       "      <th>84377</th>\n",
       "      <td>vw</td>\n",
       "    </tr>\n",
       "    <tr>\n",
       "      <th>105395</th>\n",
       "      <td>merc</td>\n",
       "    </tr>\n",
       "    <tr>\n",
       "      <th>44611</th>\n",
       "      <td>ford</td>\n",
       "    </tr>\n",
       "    <tr>\n",
       "      <th>89608</th>\n",
       "      <td>vw</td>\n",
       "    </tr>\n",
       "  </tbody>\n",
       "</table>\n",
       "<p>63759 rows × 1 columns</p>\n",
       "</div>"
      ],
      "text/plain": [
       "           maker\n",
       "46489       ford\n",
       "3921       focus\n",
       "106720      merc\n",
       "62995   vauxhall\n",
       "71019        bmw\n",
       "...          ...\n",
       "74749        bmw\n",
       "84377         vw\n",
       "105395      merc\n",
       "44611       ford\n",
       "89608         vw\n",
       "\n",
       "[63759 rows x 1 columns]"
      ]
     },
     "execution_count": 11,
     "metadata": {},
     "output_type": "execute_result"
    }
   ],
   "source": [
    "## Cambiamos las variables categoricas a numericas mediante dummies/\n",
    "# Prueba en los valores maker == Fabricante \n",
    "\n",
    "# Valores originales\n",
    "train[['maker']]"
   ]
  },
  {
   "cell_type": "code",
   "execution_count": 12,
   "metadata": {},
   "outputs": [
    {
     "data": {
      "text/html": [
       "<div>\n",
       "<style scoped>\n",
       "    .dataframe tbody tr th:only-of-type {\n",
       "        vertical-align: middle;\n",
       "    }\n",
       "\n",
       "    .dataframe tbody tr th {\n",
       "        vertical-align: top;\n",
       "    }\n",
       "\n",
       "    .dataframe thead th {\n",
       "        text-align: right;\n",
       "    }\n",
       "</style>\n",
       "<table border=\"1\" class=\"dataframe\">\n",
       "  <thead>\n",
       "    <tr style=\"text-align: right;\">\n",
       "      <th></th>\n",
       "      <th>maker_audi</th>\n",
       "      <th>maker_bmw</th>\n",
       "      <th>maker_cclass</th>\n",
       "      <th>maker_focus</th>\n",
       "      <th>maker_ford</th>\n",
       "      <th>maker_hyundi</th>\n",
       "      <th>maker_merc</th>\n",
       "      <th>maker_skoda</th>\n",
       "      <th>maker_toyota</th>\n",
       "      <th>maker_vauxhall</th>\n",
       "      <th>maker_vw</th>\n",
       "    </tr>\n",
       "  </thead>\n",
       "  <tbody>\n",
       "    <tr>\n",
       "      <th>46489</th>\n",
       "      <td>0</td>\n",
       "      <td>0</td>\n",
       "      <td>0</td>\n",
       "      <td>0</td>\n",
       "      <td>1</td>\n",
       "      <td>0</td>\n",
       "      <td>0</td>\n",
       "      <td>0</td>\n",
       "      <td>0</td>\n",
       "      <td>0</td>\n",
       "      <td>0</td>\n",
       "    </tr>\n",
       "    <tr>\n",
       "      <th>3921</th>\n",
       "      <td>0</td>\n",
       "      <td>0</td>\n",
       "      <td>0</td>\n",
       "      <td>1</td>\n",
       "      <td>0</td>\n",
       "      <td>0</td>\n",
       "      <td>0</td>\n",
       "      <td>0</td>\n",
       "      <td>0</td>\n",
       "      <td>0</td>\n",
       "      <td>0</td>\n",
       "    </tr>\n",
       "    <tr>\n",
       "      <th>106720</th>\n",
       "      <td>0</td>\n",
       "      <td>0</td>\n",
       "      <td>0</td>\n",
       "      <td>0</td>\n",
       "      <td>0</td>\n",
       "      <td>0</td>\n",
       "      <td>1</td>\n",
       "      <td>0</td>\n",
       "      <td>0</td>\n",
       "      <td>0</td>\n",
       "      <td>0</td>\n",
       "    </tr>\n",
       "    <tr>\n",
       "      <th>62995</th>\n",
       "      <td>0</td>\n",
       "      <td>0</td>\n",
       "      <td>0</td>\n",
       "      <td>0</td>\n",
       "      <td>0</td>\n",
       "      <td>0</td>\n",
       "      <td>0</td>\n",
       "      <td>0</td>\n",
       "      <td>0</td>\n",
       "      <td>1</td>\n",
       "      <td>0</td>\n",
       "    </tr>\n",
       "    <tr>\n",
       "      <th>71019</th>\n",
       "      <td>0</td>\n",
       "      <td>1</td>\n",
       "      <td>0</td>\n",
       "      <td>0</td>\n",
       "      <td>0</td>\n",
       "      <td>0</td>\n",
       "      <td>0</td>\n",
       "      <td>0</td>\n",
       "      <td>0</td>\n",
       "      <td>0</td>\n",
       "      <td>0</td>\n",
       "    </tr>\n",
       "    <tr>\n",
       "      <th>...</th>\n",
       "      <td>...</td>\n",
       "      <td>...</td>\n",
       "      <td>...</td>\n",
       "      <td>...</td>\n",
       "      <td>...</td>\n",
       "      <td>...</td>\n",
       "      <td>...</td>\n",
       "      <td>...</td>\n",
       "      <td>...</td>\n",
       "      <td>...</td>\n",
       "      <td>...</td>\n",
       "    </tr>\n",
       "    <tr>\n",
       "      <th>74749</th>\n",
       "      <td>0</td>\n",
       "      <td>1</td>\n",
       "      <td>0</td>\n",
       "      <td>0</td>\n",
       "      <td>0</td>\n",
       "      <td>0</td>\n",
       "      <td>0</td>\n",
       "      <td>0</td>\n",
       "      <td>0</td>\n",
       "      <td>0</td>\n",
       "      <td>0</td>\n",
       "    </tr>\n",
       "    <tr>\n",
       "      <th>84377</th>\n",
       "      <td>0</td>\n",
       "      <td>0</td>\n",
       "      <td>0</td>\n",
       "      <td>0</td>\n",
       "      <td>0</td>\n",
       "      <td>0</td>\n",
       "      <td>0</td>\n",
       "      <td>0</td>\n",
       "      <td>0</td>\n",
       "      <td>0</td>\n",
       "      <td>1</td>\n",
       "    </tr>\n",
       "    <tr>\n",
       "      <th>105395</th>\n",
       "      <td>0</td>\n",
       "      <td>0</td>\n",
       "      <td>0</td>\n",
       "      <td>0</td>\n",
       "      <td>0</td>\n",
       "      <td>0</td>\n",
       "      <td>1</td>\n",
       "      <td>0</td>\n",
       "      <td>0</td>\n",
       "      <td>0</td>\n",
       "      <td>0</td>\n",
       "    </tr>\n",
       "    <tr>\n",
       "      <th>44611</th>\n",
       "      <td>0</td>\n",
       "      <td>0</td>\n",
       "      <td>0</td>\n",
       "      <td>0</td>\n",
       "      <td>1</td>\n",
       "      <td>0</td>\n",
       "      <td>0</td>\n",
       "      <td>0</td>\n",
       "      <td>0</td>\n",
       "      <td>0</td>\n",
       "      <td>0</td>\n",
       "    </tr>\n",
       "    <tr>\n",
       "      <th>89608</th>\n",
       "      <td>0</td>\n",
       "      <td>0</td>\n",
       "      <td>0</td>\n",
       "      <td>0</td>\n",
       "      <td>0</td>\n",
       "      <td>0</td>\n",
       "      <td>0</td>\n",
       "      <td>0</td>\n",
       "      <td>0</td>\n",
       "      <td>0</td>\n",
       "      <td>1</td>\n",
       "    </tr>\n",
       "  </tbody>\n",
       "</table>\n",
       "<p>63759 rows × 11 columns</p>\n",
       "</div>"
      ],
      "text/plain": [
       "        maker_audi  maker_bmw  maker_cclass  maker_focus  maker_ford  \\\n",
       "46489            0          0             0            0           1   \n",
       "3921             0          0             0            1           0   \n",
       "106720           0          0             0            0           0   \n",
       "62995            0          0             0            0           0   \n",
       "71019            0          1             0            0           0   \n",
       "...            ...        ...           ...          ...         ...   \n",
       "74749            0          1             0            0           0   \n",
       "84377            0          0             0            0           0   \n",
       "105395           0          0             0            0           0   \n",
       "44611            0          0             0            0           1   \n",
       "89608            0          0             0            0           0   \n",
       "\n",
       "        maker_hyundi  maker_merc  maker_skoda  maker_toyota  maker_vauxhall  \\\n",
       "46489              0           0            0             0               0   \n",
       "3921               0           0            0             0               0   \n",
       "106720             0           1            0             0               0   \n",
       "62995              0           0            0             0               1   \n",
       "71019              0           0            0             0               0   \n",
       "...              ...         ...          ...           ...             ...   \n",
       "74749              0           0            0             0               0   \n",
       "84377              0           0            0             0               0   \n",
       "105395             0           1            0             0               0   \n",
       "44611              0           0            0             0               0   \n",
       "89608              0           0            0             0               0   \n",
       "\n",
       "        maker_vw  \n",
       "46489          0  \n",
       "3921           0  \n",
       "106720         0  \n",
       "62995          0  \n",
       "71019          0  \n",
       "...          ...  \n",
       "74749          0  \n",
       "84377          1  \n",
       "105395         0  \n",
       "44611          0  \n",
       "89608          1  \n",
       "\n",
       "[63759 rows x 11 columns]"
      ]
     },
     "execution_count": 12,
     "metadata": {},
     "output_type": "execute_result"
    }
   ],
   "source": [
    "# Valores dummies\n",
    "pd.get_dummies(train[['maker']])\n",
    "\n",
    "# Aqui se dividen los valores originales en valores dummies (1 y 0) pero este no guarda el estado y mostramos una alternativa"
   ]
  },
  {
   "cell_type": "markdown",
   "metadata": {},
   "source": [
    "## <p style=\"background-color:#ffb703; color:black; font-family:newtimeroman; font-size:200%; text-align:left; border-radius: 10px 10px;\"> ✖️ One hot enconding </p>"
   ]
  },
  {
   "cell_type": "code",
   "execution_count": 13,
   "metadata": {},
   "outputs": [],
   "source": [
    "# Libreria para cambiar las variables categoricas a numericas\n",
    "from sklearn.preprocessing import OneHotEncoder"
   ]
  },
  {
   "cell_type": "code",
   "execution_count": 14,
   "metadata": {},
   "outputs": [],
   "source": [
    "# Se crea un objeto encoder\n",
    "make_encoder = OneHotEncoder()"
   ]
  },
  {
   "cell_type": "code",
   "execution_count": 15,
   "metadata": {},
   "outputs": [
    {
     "data": {
      "text/plain": [
       "OneHotEncoder()"
      ]
     },
     "execution_count": 15,
     "metadata": {},
     "output_type": "execute_result"
    }
   ],
   "source": [
    "# Se le pasa el dataset en la variable train\n",
    "make_encoder.fit(train[['maker']])\n"
   ]
  },
  {
   "cell_type": "code",
   "execution_count": 16,
   "metadata": {},
   "outputs": [
    {
     "data": {
      "text/plain": [
       "matrix([[0., 0., 0., ..., 0., 0., 0.],\n",
       "        [0., 0., 0., ..., 0., 0., 0.],\n",
       "        [0., 0., 0., ..., 0., 0., 0.],\n",
       "        ...,\n",
       "        [0., 0., 0., ..., 0., 0., 0.],\n",
       "        [0., 0., 0., ..., 0., 0., 0.],\n",
       "        [0., 0., 0., ..., 0., 0., 1.]])"
      ]
     },
     "execution_count": 16,
     "metadata": {},
     "output_type": "execute_result"
    }
   ],
   "source": [
    "# Matriz de valores al estilo dummies \n",
    "# mkr = make_encoder.transform(train[['maker']]) Original\n",
    "mkr = make_encoder.transform(train[['maker']]).todense() # Se transforma a una matriz densa\n",
    "mkr"
   ]
  },
  {
   "cell_type": "code",
   "execution_count": 17,
   "metadata": {},
   "outputs": [
    {
     "data": {
      "text/plain": [
       "[array(['audi', 'bmw', 'cclass', 'focus', 'ford', 'hyundi', 'merc',\n",
       "        'skoda', 'toyota', 'vauxhall', 'vw'], dtype=object)]"
      ]
     },
     "execution_count": 17,
     "metadata": {},
     "output_type": "execute_result"
    }
   ],
   "source": [
    "# Categorias dentro de la matriz del encoder \n",
    "make_encoder.categories_"
   ]
  },
  {
   "cell_type": "markdown",
   "metadata": {},
   "source": [
    "### pandas.get_dummies() vs encode()"
   ]
  },
  {
   "cell_type": "code",
   "execution_count": 18,
   "metadata": {},
   "outputs": [],
   "source": [
    "# En este ejemplo rapido se puede ver el funcionamiento segun las matrices de valores y seleccionar la que mejor se adapte a los datos\n",
    "test_maker = 'audi'"
   ]
  },
  {
   "cell_type": "code",
   "execution_count": 19,
   "metadata": {},
   "outputs": [
    {
     "data": {
      "text/html": [
       "<div>\n",
       "<style scoped>\n",
       "    .dataframe tbody tr th:only-of-type {\n",
       "        vertical-align: middle;\n",
       "    }\n",
       "\n",
       "    .dataframe tbody tr th {\n",
       "        vertical-align: top;\n",
       "    }\n",
       "\n",
       "    .dataframe thead th {\n",
       "        text-align: right;\n",
       "    }\n",
       "</style>\n",
       "<table border=\"1\" class=\"dataframe\">\n",
       "  <thead>\n",
       "    <tr style=\"text-align: right;\">\n",
       "      <th></th>\n",
       "      <th>audi</th>\n",
       "    </tr>\n",
       "  </thead>\n",
       "  <tbody>\n",
       "    <tr>\n",
       "      <th>0</th>\n",
       "      <td>1</td>\n",
       "    </tr>\n",
       "  </tbody>\n",
       "</table>\n",
       "</div>"
      ],
      "text/plain": [
       "   audi\n",
       "0     1"
      ]
     },
     "execution_count": 19,
     "metadata": {},
     "output_type": "execute_result"
    }
   ],
   "source": [
    "pd.get_dummies(test_maker)"
   ]
  },
  {
   "cell_type": "code",
   "execution_count": 20,
   "metadata": {},
   "outputs": [
    {
     "name": "stderr",
     "output_type": "stream",
     "text": [
      "C:\\Users\\G\\AppData\\Local\\Programs\\Python\\Python310\\lib\\site-packages\\sklearn\\base.py:450: UserWarning: X does not have valid feature names, but OneHotEncoder was fitted with feature names\n",
      "  warnings.warn(\n"
     ]
    },
    {
     "data": {
      "text/plain": [
       "matrix([[1., 0., 0., 0., 0., 0., 0., 0., 0., 0., 0.]])"
      ]
     },
     "execution_count": 20,
     "metadata": {},
     "output_type": "execute_result"
    }
   ],
   "source": [
    "make_encoder.transform([[test_maker]]).todense()"
   ]
  },
  {
   "cell_type": "markdown",
   "metadata": {},
   "source": [
    "\"Prefiero que el modelo falle a que realice una predicción incorrecta\" - Antonio Feregrino"
   ]
  },
  {
   "cell_type": "markdown",
   "metadata": {},
   "source": [
    "## <p style=\"background-color:#ffb703; color:black; font-family:newtimeroman; font-size:200%; text-align:left; border-radius: 10px 10px;\"> 📐 Feature Scaling </p>"
   ]
  },
  {
   "cell_type": "code",
   "execution_count": 21,
   "metadata": {},
   "outputs": [],
   "source": [
    "# Evitar que el modelo asigne mayor prioridad a una categoria que otra\n",
    "# Comprime valores mas grandes para que todos se encuentren en un rango similar \n",
    "\n",
    "# En sklearn exiten herramientas que permiten realizar esto de manera eficiente, mostrando variantes para cada caso\n",
    "from sklearn.preprocessing import RobustScaler, StandardScaler, MinMaxScaler, MaxAbsScaler"
   ]
  },
  {
   "cell_type": "code",
   "execution_count": 22,
   "metadata": {},
   "outputs": [],
   "source": [
    "# ejemplo con minmax\n",
    "scaler = MinMaxScaler()"
   ]
  },
  {
   "cell_type": "code",
   "execution_count": 23,
   "metadata": {},
   "outputs": [
    {
     "data": {
      "text/plain": [
       "MinMaxScaler()"
      ]
     },
     "execution_count": 23,
     "metadata": {},
     "output_type": "execute_result"
    }
   ],
   "source": [
    "scaler.fit(train[['mileage']])"
   ]
  },
  {
   "cell_type": "code",
   "execution_count": 24,
   "metadata": {},
   "outputs": [],
   "source": [
    "scaled = scaler.transform(train[['mileage']])"
   ]
  },
  {
   "cell_type": "code",
   "execution_count": 25,
   "metadata": {},
   "outputs": [
    {
     "data": {
      "text/plain": [
       "array([[0.14541531],\n",
       "       [0.08642442],\n",
       "       [0.10330373],\n",
       "       ...,\n",
       "       [0.18835972],\n",
       "       [0.062768  ],\n",
       "       [0.01857281]])"
      ]
     },
     "execution_count": 25,
     "metadata": {},
     "output_type": "execute_result"
    }
   ],
   "source": [
    "scaled"
   ]
  },
  {
   "cell_type": "code",
   "execution_count": 26,
   "metadata": {},
   "outputs": [],
   "source": [
    "# Demostracion de la transformacion\n",
    "values = pd.DataFrame({'mileage': train['mileage'].values, 'scaled':scaled.squeeze()})"
   ]
  },
  {
   "cell_type": "code",
   "execution_count": 27,
   "metadata": {},
   "outputs": [
    {
     "data": {
      "text/html": [
       "<div>\n",
       "<style scoped>\n",
       "    .dataframe tbody tr th:only-of-type {\n",
       "        vertical-align: middle;\n",
       "    }\n",
       "\n",
       "    .dataframe tbody tr th {\n",
       "        vertical-align: top;\n",
       "    }\n",
       "\n",
       "    .dataframe thead th {\n",
       "        text-align: right;\n",
       "    }\n",
       "</style>\n",
       "<table border=\"1\" class=\"dataframe\">\n",
       "  <thead>\n",
       "    <tr style=\"text-align: right;\">\n",
       "      <th></th>\n",
       "      <th>mileage</th>\n",
       "      <th>scaled</th>\n",
       "    </tr>\n",
       "  </thead>\n",
       "  <tbody>\n",
       "    <tr>\n",
       "      <th>40878</th>\n",
       "      <td>3500</td>\n",
       "      <td>0.010833</td>\n",
       "    </tr>\n",
       "    <tr>\n",
       "      <th>36178</th>\n",
       "      <td>31815</td>\n",
       "      <td>0.098496</td>\n",
       "    </tr>\n",
       "    <tr>\n",
       "      <th>5941</th>\n",
       "      <td>47364</td>\n",
       "      <td>0.146635</td>\n",
       "    </tr>\n",
       "    <tr>\n",
       "      <th>33617</th>\n",
       "      <td>13202</td>\n",
       "      <td>0.040870</td>\n",
       "    </tr>\n",
       "    <tr>\n",
       "      <th>48047</th>\n",
       "      <td>1165</td>\n",
       "      <td>0.003604</td>\n",
       "    </tr>\n",
       "  </tbody>\n",
       "</table>\n",
       "</div>"
      ],
      "text/plain": [
       "       mileage    scaled\n",
       "40878     3500  0.010833\n",
       "36178    31815  0.098496\n",
       "5941     47364  0.146635\n",
       "33617    13202  0.040870\n",
       "48047     1165  0.003604"
      ]
     },
     "execution_count": 27,
     "metadata": {},
     "output_type": "execute_result"
    }
   ],
   "source": [
    "values.sample(5)"
   ]
  },
  {
   "cell_type": "code",
   "execution_count": 28,
   "metadata": {},
   "outputs": [
    {
     "data": {
      "text/html": [
       "<div>\n",
       "<style scoped>\n",
       "    .dataframe tbody tr th:only-of-type {\n",
       "        vertical-align: middle;\n",
       "    }\n",
       "\n",
       "    .dataframe tbody tr th {\n",
       "        vertical-align: top;\n",
       "    }\n",
       "\n",
       "    .dataframe thead th {\n",
       "        text-align: right;\n",
       "    }\n",
       "</style>\n",
       "<table border=\"1\" class=\"dataframe\">\n",
       "  <thead>\n",
       "    <tr style=\"text-align: right;\">\n",
       "      <th></th>\n",
       "      <th>mileage</th>\n",
       "      <th>scaled</th>\n",
       "    </tr>\n",
       "  </thead>\n",
       "  <tbody>\n",
       "    <tr>\n",
       "      <th>count</th>\n",
       "      <td>63759.000000</td>\n",
       "      <td>63759.000000</td>\n",
       "    </tr>\n",
       "    <tr>\n",
       "      <th>mean</th>\n",
       "      <td>23256.570539</td>\n",
       "      <td>0.071999</td>\n",
       "    </tr>\n",
       "    <tr>\n",
       "      <th>std</th>\n",
       "      <td>21236.775936</td>\n",
       "      <td>0.065749</td>\n",
       "    </tr>\n",
       "    <tr>\n",
       "      <th>min</th>\n",
       "      <td>1.000000</td>\n",
       "      <td>0.000000</td>\n",
       "    </tr>\n",
       "    <tr>\n",
       "      <th>25%</th>\n",
       "      <td>7764.500000</td>\n",
       "      <td>0.024036</td>\n",
       "    </tr>\n",
       "    <tr>\n",
       "      <th>50%</th>\n",
       "      <td>17562.000000</td>\n",
       "      <td>0.054369</td>\n",
       "    </tr>\n",
       "    <tr>\n",
       "      <th>75%</th>\n",
       "      <td>32448.000000</td>\n",
       "      <td>0.100455</td>\n",
       "    </tr>\n",
       "    <tr>\n",
       "      <th>max</th>\n",
       "      <td>323000.000000</td>\n",
       "      <td>1.000000</td>\n",
       "    </tr>\n",
       "  </tbody>\n",
       "</table>\n",
       "</div>"
      ],
      "text/plain": [
       "             mileage        scaled\n",
       "count   63759.000000  63759.000000\n",
       "mean    23256.570539      0.071999\n",
       "std     21236.775936      0.065749\n",
       "min         1.000000      0.000000\n",
       "25%      7764.500000      0.024036\n",
       "50%     17562.000000      0.054369\n",
       "75%     32448.000000      0.100455\n",
       "max    323000.000000      1.000000"
      ]
     },
     "execution_count": 28,
     "metadata": {},
     "output_type": "execute_result"
    }
   ],
   "source": [
    "values.describe()"
   ]
  },
  {
   "cell_type": "markdown",
   "metadata": {},
   "source": [
    "## Ejemplo con dos escaladores"
   ]
  },
  {
   "cell_type": "code",
   "execution_count": 29,
   "metadata": {},
   "outputs": [],
   "source": [
    "escalador = MinMaxScaler()\n",
    "escalador2 = RobustScaler()\n",
    "\n",
    "escalador.fit(train[['mileage']])\n",
    "escalador2.fit(train[['mileage']])\n",
    "\n",
    "escalador = escalador.transform(train[['mileage']])\n",
    "escalador2 = escalador2.transform(train[['mileage']])\n"
   ]
  },
  {
   "cell_type": "code",
   "execution_count": 30,
   "metadata": {},
   "outputs": [
    {
     "data": {
      "text/html": [
       "<div>\n",
       "<style scoped>\n",
       "    .dataframe tbody tr th:only-of-type {\n",
       "        vertical-align: middle;\n",
       "    }\n",
       "\n",
       "    .dataframe tbody tr th {\n",
       "        vertical-align: top;\n",
       "    }\n",
       "\n",
       "    .dataframe thead th {\n",
       "        text-align: right;\n",
       "    }\n",
       "</style>\n",
       "<table border=\"1\" class=\"dataframe\">\n",
       "  <thead>\n",
       "    <tr style=\"text-align: right;\">\n",
       "      <th></th>\n",
       "      <th>mileage</th>\n",
       "      <th>MinMax</th>\n",
       "      <th>Robust</th>\n",
       "    </tr>\n",
       "  </thead>\n",
       "  <tbody>\n",
       "    <tr>\n",
       "      <th>38509</th>\n",
       "      <td>31586</td>\n",
       "      <td>0.097787</td>\n",
       "      <td>0.568153</td>\n",
       "    </tr>\n",
       "    <tr>\n",
       "      <th>56510</th>\n",
       "      <td>52538</td>\n",
       "      <td>0.162654</td>\n",
       "      <td>1.416979</td>\n",
       "    </tr>\n",
       "    <tr>\n",
       "      <th>11934</th>\n",
       "      <td>4888</td>\n",
       "      <td>0.015130</td>\n",
       "      <td>-0.513460</td>\n",
       "    </tr>\n",
       "    <tr>\n",
       "      <th>48994</th>\n",
       "      <td>49552</td>\n",
       "      <td>0.153409</td>\n",
       "      <td>1.296007</td>\n",
       "    </tr>\n",
       "    <tr>\n",
       "      <th>61286</th>\n",
       "      <td>6770</td>\n",
       "      <td>0.020957</td>\n",
       "      <td>-0.437215</td>\n",
       "    </tr>\n",
       "  </tbody>\n",
       "</table>\n",
       "</div>"
      ],
      "text/plain": [
       "       mileage    MinMax    Robust\n",
       "38509    31586  0.097787  0.568153\n",
       "56510    52538  0.162654  1.416979\n",
       "11934     4888  0.015130 -0.513460\n",
       "48994    49552  0.153409  1.296007\n",
       "61286     6770  0.020957 -0.437215"
      ]
     },
     "execution_count": 30,
     "metadata": {},
     "output_type": "execute_result"
    }
   ],
   "source": [
    "valores = pd.DataFrame({'mileage': train['mileage'].values, 'MinMax':escalador.squeeze(), 'Robust':escalador2.squeeze()})\n",
    "valores.sample(5)"
   ]
  },
  {
   "cell_type": "markdown",
   "metadata": {},
   "source": [
    "## <p style=\"background-color:#ffb703; color:black; font-family:newtimeroman; font-size:200%; text-align:left; border-radius: 10px 10px;\"> ⚙️ Artefactos </p>\n",
    "\n",
    "\n",
    "Herramientas que nos ayudan a convertir una observacion real en una predicción.\n",
    "Se recomienda ampliamente documentar los serializadores empleados al momento de general el modelo para tener puntos de referencia si algo falla al momentos de liberar en producción o al momento de replicar. "
   ]
  },
  {
   "cell_type": "code",
   "execution_count": 31,
   "metadata": {},
   "outputs": [],
   "source": [
    "# Libreria por excelencia para los serializadores\n",
    "import pickle\n",
    "\n",
    "with open('scaled.pickle', 'wb') as wb:\n",
    "    pickle.dump(scaled, wb)\n",
    "    \n",
    "with open('make_encoder.pickle', 'wb') as wb:\n",
    "    pickle.dump(make_encoder, wb)"
   ]
  },
  {
   "cell_type": "code",
   "execution_count": 32,
   "metadata": {},
   "outputs": [],
   "source": [
    "# Se pueden cargar los serializadores en otro notebook / script para testear la ejecucion\n",
    "\n",
    "import pickle\n",
    "\n",
    "with open('make_encoder.pickle', 'rb') as rb:\n",
    "    make_encoder = pickle.load(rb)"
   ]
  },
  {
   "cell_type": "code",
   "execution_count": 33,
   "metadata": {},
   "outputs": [
    {
     "data": {
      "text/plain": [
       "[array(['audi', 'bmw', 'cclass', 'focus', 'ford', 'hyundi', 'merc',\n",
       "        'skoda', 'toyota', 'vauxhall', 'vw'], dtype=object)]"
      ]
     },
     "execution_count": 33,
     "metadata": {},
     "output_type": "execute_result"
    }
   ],
   "source": [
    "# test del escalador\n",
    "make_encoder.categories_"
   ]
  },
  {
   "cell_type": "markdown",
   "metadata": {},
   "source": [
    "## <p style=\"background-color:#ffb703; color:black; font-family:newtimeroman; font-size:200%; text-align:left; border-radius: 10px 10px;\"> 🔃 Pipelines </p>\n",
    "\n",
    "Permite crear una secuencia de transformaciones de datos.\n",
    "para poder replicar en produccion de manera sencilla y eficiente."
   ]
  },
  {
   "cell_type": "code",
   "execution_count": 34,
   "metadata": {},
   "outputs": [],
   "source": [
    "# Entre las librerias a utilizar se recomiendan las siguientes gracias a sklearn\n",
    "\n",
    "from sklearn import set_config\n",
    "\n",
    "from sklearn.pipeline import Pipeline\n",
    "\n",
    "from sklearn.pipeline import FeatureUnion\n",
    "\n",
    "from sklearn.impute import SimpleImputer\n",
    "\n",
    "from sklearn.compose import ColumnTransformer\n",
    "\n",
    "from sklearn.preprocessing import RobustScaler, MinMaxScaler\n"
   ]
  },
  {
   "cell_type": "code",
   "execution_count": 45,
   "metadata": {},
   "outputs": [],
   "source": [
    "# onehotencode maker, transmission y fuelType\n",
    "\n",
    "one_hot_encode = ColumnTransformer([(\n",
    "    # Nombre de la transformacion\n",
    "    #                 # La transformacion\n",
    "    #                                               Coumnas que van a sufrir la transmision\n",
    "    'maker-transmission-fuelType', OneHotEncoder(sparse=False), ['maker', 'transmission', 'fuelType']\n",
    ")])"
   ]
  },
  {
   "cell_type": "code",
   "execution_count": 46,
   "metadata": {},
   "outputs": [
    {
     "data": {
      "text/html": [
       "<style>#sk-8d50c6d4-bf0b-4e92-aff9-dd1632548e58 {color: black;background-color: white;}#sk-8d50c6d4-bf0b-4e92-aff9-dd1632548e58 pre{padding: 0;}#sk-8d50c6d4-bf0b-4e92-aff9-dd1632548e58 div.sk-toggleable {background-color: white;}#sk-8d50c6d4-bf0b-4e92-aff9-dd1632548e58 label.sk-toggleable__label {cursor: pointer;display: block;width: 100%;margin-bottom: 0;padding: 0.3em;box-sizing: border-box;text-align: center;}#sk-8d50c6d4-bf0b-4e92-aff9-dd1632548e58 label.sk-toggleable__label-arrow:before {content: \"▸\";float: left;margin-right: 0.25em;color: #696969;}#sk-8d50c6d4-bf0b-4e92-aff9-dd1632548e58 label.sk-toggleable__label-arrow:hover:before {color: black;}#sk-8d50c6d4-bf0b-4e92-aff9-dd1632548e58 div.sk-estimator:hover label.sk-toggleable__label-arrow:before {color: black;}#sk-8d50c6d4-bf0b-4e92-aff9-dd1632548e58 div.sk-toggleable__content {max-height: 0;max-width: 0;overflow: hidden;text-align: left;background-color: #f0f8ff;}#sk-8d50c6d4-bf0b-4e92-aff9-dd1632548e58 div.sk-toggleable__content pre {margin: 0.2em;color: black;border-radius: 0.25em;background-color: #f0f8ff;}#sk-8d50c6d4-bf0b-4e92-aff9-dd1632548e58 input.sk-toggleable__control:checked~div.sk-toggleable__content {max-height: 200px;max-width: 100%;overflow: auto;}#sk-8d50c6d4-bf0b-4e92-aff9-dd1632548e58 input.sk-toggleable__control:checked~label.sk-toggleable__label-arrow:before {content: \"▾\";}#sk-8d50c6d4-bf0b-4e92-aff9-dd1632548e58 div.sk-estimator input.sk-toggleable__control:checked~label.sk-toggleable__label {background-color: #d4ebff;}#sk-8d50c6d4-bf0b-4e92-aff9-dd1632548e58 div.sk-label input.sk-toggleable__control:checked~label.sk-toggleable__label {background-color: #d4ebff;}#sk-8d50c6d4-bf0b-4e92-aff9-dd1632548e58 input.sk-hidden--visually {border: 0;clip: rect(1px 1px 1px 1px);clip: rect(1px, 1px, 1px, 1px);height: 1px;margin: -1px;overflow: hidden;padding: 0;position: absolute;width: 1px;}#sk-8d50c6d4-bf0b-4e92-aff9-dd1632548e58 div.sk-estimator {font-family: monospace;background-color: #f0f8ff;border: 1px dotted black;border-radius: 0.25em;box-sizing: border-box;margin-bottom: 0.5em;}#sk-8d50c6d4-bf0b-4e92-aff9-dd1632548e58 div.sk-estimator:hover {background-color: #d4ebff;}#sk-8d50c6d4-bf0b-4e92-aff9-dd1632548e58 div.sk-parallel-item::after {content: \"\";width: 100%;border-bottom: 1px solid gray;flex-grow: 1;}#sk-8d50c6d4-bf0b-4e92-aff9-dd1632548e58 div.sk-label:hover label.sk-toggleable__label {background-color: #d4ebff;}#sk-8d50c6d4-bf0b-4e92-aff9-dd1632548e58 div.sk-serial::before {content: \"\";position: absolute;border-left: 1px solid gray;box-sizing: border-box;top: 2em;bottom: 0;left: 50%;}#sk-8d50c6d4-bf0b-4e92-aff9-dd1632548e58 div.sk-serial {display: flex;flex-direction: column;align-items: center;background-color: white;padding-right: 0.2em;padding-left: 0.2em;}#sk-8d50c6d4-bf0b-4e92-aff9-dd1632548e58 div.sk-item {z-index: 1;}#sk-8d50c6d4-bf0b-4e92-aff9-dd1632548e58 div.sk-parallel {display: flex;align-items: stretch;justify-content: center;background-color: white;}#sk-8d50c6d4-bf0b-4e92-aff9-dd1632548e58 div.sk-parallel::before {content: \"\";position: absolute;border-left: 1px solid gray;box-sizing: border-box;top: 2em;bottom: 0;left: 50%;}#sk-8d50c6d4-bf0b-4e92-aff9-dd1632548e58 div.sk-parallel-item {display: flex;flex-direction: column;position: relative;background-color: white;}#sk-8d50c6d4-bf0b-4e92-aff9-dd1632548e58 div.sk-parallel-item:first-child::after {align-self: flex-end;width: 50%;}#sk-8d50c6d4-bf0b-4e92-aff9-dd1632548e58 div.sk-parallel-item:last-child::after {align-self: flex-start;width: 50%;}#sk-8d50c6d4-bf0b-4e92-aff9-dd1632548e58 div.sk-parallel-item:only-child::after {width: 0;}#sk-8d50c6d4-bf0b-4e92-aff9-dd1632548e58 div.sk-dashed-wrapped {border: 1px dashed gray;margin: 0 0.4em 0.5em 0.4em;box-sizing: border-box;padding-bottom: 0.4em;background-color: white;position: relative;}#sk-8d50c6d4-bf0b-4e92-aff9-dd1632548e58 div.sk-label label {font-family: monospace;font-weight: bold;background-color: white;display: inline-block;line-height: 1.2em;}#sk-8d50c6d4-bf0b-4e92-aff9-dd1632548e58 div.sk-label-container {position: relative;z-index: 2;text-align: center;}#sk-8d50c6d4-bf0b-4e92-aff9-dd1632548e58 div.sk-container {/* jupyter's `normalize.less` sets `[hidden] { display: none; }` but bootstrap.min.css set `[hidden] { display: none !important; }` so we also need the `!important` here to be able to override the default hidden behavior on the sphinx rendered scikit-learn.org. See: https://github.com/scikit-learn/scikit-learn/issues/21755 */display: inline-block !important;position: relative;}#sk-8d50c6d4-bf0b-4e92-aff9-dd1632548e58 div.sk-text-repr-fallback {display: none;}</style><div id=\"sk-8d50c6d4-bf0b-4e92-aff9-dd1632548e58\" class=\"sk-top-container\"><div class=\"sk-text-repr-fallback\"><pre>ColumnTransformer(transformers=[(&#x27;maker-transmission-fuelType&#x27;,\n",
       "                                 OneHotEncoder(sparse=False),\n",
       "                                 [&#x27;maker&#x27;, &#x27;transmission&#x27;, &#x27;fuelType&#x27;])])</pre><b>Please rerun this cell to show the HTML repr or trust the notebook.</b></div><div class=\"sk-container\" hidden><div class=\"sk-item sk-dashed-wrapped\"><div class=\"sk-label-container\"><div class=\"sk-label sk-toggleable\"><input class=\"sk-toggleable__control sk-hidden--visually\" id=\"b0166c9a-2780-4d98-a47b-920b70a69355\" type=\"checkbox\" ><label for=\"b0166c9a-2780-4d98-a47b-920b70a69355\" class=\"sk-toggleable__label sk-toggleable__label-arrow\">ColumnTransformer</label><div class=\"sk-toggleable__content\"><pre>ColumnTransformer(transformers=[(&#x27;maker-transmission-fuelType&#x27;,\n",
       "                                 OneHotEncoder(sparse=False),\n",
       "                                 [&#x27;maker&#x27;, &#x27;transmission&#x27;, &#x27;fuelType&#x27;])])</pre></div></div></div><div class=\"sk-parallel\"><div class=\"sk-parallel-item\"><div class=\"sk-item\"><div class=\"sk-label-container\"><div class=\"sk-label sk-toggleable\"><input class=\"sk-toggleable__control sk-hidden--visually\" id=\"086cb230-058f-4cb3-a217-0a06d265cb79\" type=\"checkbox\" ><label for=\"086cb230-058f-4cb3-a217-0a06d265cb79\" class=\"sk-toggleable__label sk-toggleable__label-arrow\">maker-transmission-fuelType</label><div class=\"sk-toggleable__content\"><pre>[&#x27;maker&#x27;, &#x27;transmission&#x27;, &#x27;fuelType&#x27;]</pre></div></div></div><div class=\"sk-serial\"><div class=\"sk-item\"><div class=\"sk-estimator sk-toggleable\"><input class=\"sk-toggleable__control sk-hidden--visually\" id=\"8fc9accf-8b7f-479f-b0b8-2c80ec9f1c69\" type=\"checkbox\" ><label for=\"8fc9accf-8b7f-479f-b0b8-2c80ec9f1c69\" class=\"sk-toggleable__label sk-toggleable__label-arrow\">OneHotEncoder</label><div class=\"sk-toggleable__content\"><pre>OneHotEncoder(sparse=False)</pre></div></div></div></div></div></div></div></div></div></div>"
      ],
      "text/plain": [
       "ColumnTransformer(transformers=[('maker-transmission-fuelType',\n",
       "                                 OneHotEncoder(sparse=False),\n",
       "                                 ['maker', 'transmission', 'fuelType'])])"
      ]
     },
     "execution_count": 46,
     "metadata": {},
     "output_type": "execute_result"
    }
   ],
   "source": [
    "one_hot_encode.fit(train)"
   ]
  },
  {
   "cell_type": "code",
   "execution_count": 47,
   "metadata": {},
   "outputs": [
    {
     "data": {
      "text/plain": [
       "(63759, 20)"
      ]
     },
     "execution_count": 47,
     "metadata": {},
     "output_type": "execute_result"
    }
   ],
   "source": [
    "test = one_hot_encode.transform(train)\n",
    "test.shape"
   ]
  },
  {
   "cell_type": "code",
   "execution_count": 38,
   "metadata": {},
   "outputs": [
    {
     "data": {
      "text/plain": [
       "array([[0., 0., 0., ..., 0., 0., 1.],\n",
       "       [0., 0., 0., ..., 0., 0., 0.],\n",
       "       [0., 0., 0., ..., 0., 0., 0.],\n",
       "       ...,\n",
       "       [0., 0., 0., ..., 0., 0., 0.],\n",
       "       [0., 0., 0., ..., 0., 0., 0.],\n",
       "       [0., 0., 0., ..., 0., 0., 0.]])"
      ]
     },
     "execution_count": 38,
     "metadata": {},
     "output_type": "execute_result"
    }
   ],
   "source": [
    "test"
   ]
  },
  {
   "cell_type": "code",
   "execution_count": 48,
   "metadata": {},
   "outputs": [],
   "source": [
    "# Robust encode mileage\n",
    "\n",
    "robus_encoding = ColumnTransformer([(\n",
    "    'mileage', RobustScaler(), ['mileage']\n",
    ")])"
   ]
  },
  {
   "cell_type": "code",
   "execution_count": 49,
   "metadata": {},
   "outputs": [],
   "source": [
    "# impute and standard scale mpg and tax\n",
    "impute_and_scale = Pipeline([\n",
    "    ('impute', SimpleImputer(strategy='mean')),\n",
    "    ('scale', MinMaxScaler())])"
   ]
  },
  {
   "cell_type": "code",
   "execution_count": 50,
   "metadata": {},
   "outputs": [],
   "source": [
    "standard_scaling = ColumnTransformer([('mpg-tax', impute_and_scale, ['mpg', 'tax'])])"
   ]
  },
  {
   "cell_type": "code",
   "execution_count": 51,
   "metadata": {},
   "outputs": [],
   "source": [
    "passthrough = ColumnTransformer([('pass', 'passthrough', ['year', 'engineSize'])])"
   ]
  },
  {
   "cell_type": "code",
   "execution_count": 52,
   "metadata": {},
   "outputs": [],
   "source": [
    "# Ensamblando el Pipeline\n",
    "\n",
    "pipe = Pipeline([(\n",
    "    'features', FeatureUnion([\n",
    "        ('one_hot_encode', one_hot_encode),\n",
    "        ('robust_encoding', robus_encoding), \n",
    "        ('just_pass', passthrough),\n",
    "        ('scale_and_impute', standard_scaling)\n",
    "    ])\n",
    ")])"
   ]
  },
  {
   "cell_type": "code",
   "execution_count": 53,
   "metadata": {},
   "outputs": [
    {
     "data": {
      "text/html": [
       "<style>#sk-e8f5d79a-b88a-4e58-bd57-94d118e7908f {color: black;background-color: white;}#sk-e8f5d79a-b88a-4e58-bd57-94d118e7908f pre{padding: 0;}#sk-e8f5d79a-b88a-4e58-bd57-94d118e7908f div.sk-toggleable {background-color: white;}#sk-e8f5d79a-b88a-4e58-bd57-94d118e7908f label.sk-toggleable__label {cursor: pointer;display: block;width: 100%;margin-bottom: 0;padding: 0.3em;box-sizing: border-box;text-align: center;}#sk-e8f5d79a-b88a-4e58-bd57-94d118e7908f label.sk-toggleable__label-arrow:before {content: \"▸\";float: left;margin-right: 0.25em;color: #696969;}#sk-e8f5d79a-b88a-4e58-bd57-94d118e7908f label.sk-toggleable__label-arrow:hover:before {color: black;}#sk-e8f5d79a-b88a-4e58-bd57-94d118e7908f div.sk-estimator:hover label.sk-toggleable__label-arrow:before {color: black;}#sk-e8f5d79a-b88a-4e58-bd57-94d118e7908f div.sk-toggleable__content {max-height: 0;max-width: 0;overflow: hidden;text-align: left;background-color: #f0f8ff;}#sk-e8f5d79a-b88a-4e58-bd57-94d118e7908f div.sk-toggleable__content pre {margin: 0.2em;color: black;border-radius: 0.25em;background-color: #f0f8ff;}#sk-e8f5d79a-b88a-4e58-bd57-94d118e7908f input.sk-toggleable__control:checked~div.sk-toggleable__content {max-height: 200px;max-width: 100%;overflow: auto;}#sk-e8f5d79a-b88a-4e58-bd57-94d118e7908f input.sk-toggleable__control:checked~label.sk-toggleable__label-arrow:before {content: \"▾\";}#sk-e8f5d79a-b88a-4e58-bd57-94d118e7908f div.sk-estimator input.sk-toggleable__control:checked~label.sk-toggleable__label {background-color: #d4ebff;}#sk-e8f5d79a-b88a-4e58-bd57-94d118e7908f div.sk-label input.sk-toggleable__control:checked~label.sk-toggleable__label {background-color: #d4ebff;}#sk-e8f5d79a-b88a-4e58-bd57-94d118e7908f input.sk-hidden--visually {border: 0;clip: rect(1px 1px 1px 1px);clip: rect(1px, 1px, 1px, 1px);height: 1px;margin: -1px;overflow: hidden;padding: 0;position: absolute;width: 1px;}#sk-e8f5d79a-b88a-4e58-bd57-94d118e7908f div.sk-estimator {font-family: monospace;background-color: #f0f8ff;border: 1px dotted black;border-radius: 0.25em;box-sizing: border-box;margin-bottom: 0.5em;}#sk-e8f5d79a-b88a-4e58-bd57-94d118e7908f div.sk-estimator:hover {background-color: #d4ebff;}#sk-e8f5d79a-b88a-4e58-bd57-94d118e7908f div.sk-parallel-item::after {content: \"\";width: 100%;border-bottom: 1px solid gray;flex-grow: 1;}#sk-e8f5d79a-b88a-4e58-bd57-94d118e7908f div.sk-label:hover label.sk-toggleable__label {background-color: #d4ebff;}#sk-e8f5d79a-b88a-4e58-bd57-94d118e7908f div.sk-serial::before {content: \"\";position: absolute;border-left: 1px solid gray;box-sizing: border-box;top: 2em;bottom: 0;left: 50%;}#sk-e8f5d79a-b88a-4e58-bd57-94d118e7908f div.sk-serial {display: flex;flex-direction: column;align-items: center;background-color: white;padding-right: 0.2em;padding-left: 0.2em;}#sk-e8f5d79a-b88a-4e58-bd57-94d118e7908f div.sk-item {z-index: 1;}#sk-e8f5d79a-b88a-4e58-bd57-94d118e7908f div.sk-parallel {display: flex;align-items: stretch;justify-content: center;background-color: white;}#sk-e8f5d79a-b88a-4e58-bd57-94d118e7908f div.sk-parallel::before {content: \"\";position: absolute;border-left: 1px solid gray;box-sizing: border-box;top: 2em;bottom: 0;left: 50%;}#sk-e8f5d79a-b88a-4e58-bd57-94d118e7908f div.sk-parallel-item {display: flex;flex-direction: column;position: relative;background-color: white;}#sk-e8f5d79a-b88a-4e58-bd57-94d118e7908f div.sk-parallel-item:first-child::after {align-self: flex-end;width: 50%;}#sk-e8f5d79a-b88a-4e58-bd57-94d118e7908f div.sk-parallel-item:last-child::after {align-self: flex-start;width: 50%;}#sk-e8f5d79a-b88a-4e58-bd57-94d118e7908f div.sk-parallel-item:only-child::after {width: 0;}#sk-e8f5d79a-b88a-4e58-bd57-94d118e7908f div.sk-dashed-wrapped {border: 1px dashed gray;margin: 0 0.4em 0.5em 0.4em;box-sizing: border-box;padding-bottom: 0.4em;background-color: white;position: relative;}#sk-e8f5d79a-b88a-4e58-bd57-94d118e7908f div.sk-label label {font-family: monospace;font-weight: bold;background-color: white;display: inline-block;line-height: 1.2em;}#sk-e8f5d79a-b88a-4e58-bd57-94d118e7908f div.sk-label-container {position: relative;z-index: 2;text-align: center;}#sk-e8f5d79a-b88a-4e58-bd57-94d118e7908f div.sk-container {/* jupyter's `normalize.less` sets `[hidden] { display: none; }` but bootstrap.min.css set `[hidden] { display: none !important; }` so we also need the `!important` here to be able to override the default hidden behavior on the sphinx rendered scikit-learn.org. See: https://github.com/scikit-learn/scikit-learn/issues/21755 */display: inline-block !important;position: relative;}#sk-e8f5d79a-b88a-4e58-bd57-94d118e7908f div.sk-text-repr-fallback {display: none;}</style><div id=\"sk-e8f5d79a-b88a-4e58-bd57-94d118e7908f\" class=\"sk-top-container\"><div class=\"sk-text-repr-fallback\"><pre>Pipeline(steps=[(&#x27;features&#x27;,\n",
       "                 FeatureUnion(transformer_list=[(&#x27;one_hot_encode&#x27;,\n",
       "                                                 ColumnTransformer(transformers=[(&#x27;maker-transmission-fuelType&#x27;,\n",
       "                                                                                  OneHotEncoder(sparse=False),\n",
       "                                                                                  [&#x27;maker&#x27;,\n",
       "                                                                                   &#x27;transmission&#x27;,\n",
       "                                                                                   &#x27;fuelType&#x27;])])),\n",
       "                                                (&#x27;robust_encoding&#x27;,\n",
       "                                                 ColumnTransformer(transformers=[(&#x27;mileage&#x27;,\n",
       "                                                                                  RobustScaler(),\n",
       "                                                                                  [&#x27;mileage&#x27;])])),\n",
       "                                                (&#x27;just_pass&#x27;,\n",
       "                                                 ColumnTransformer(transformers=[(&#x27;pass&#x27;,\n",
       "                                                                                  &#x27;passthrough&#x27;,\n",
       "                                                                                  [&#x27;year&#x27;,\n",
       "                                                                                   &#x27;engineSize&#x27;])])),\n",
       "                                                (&#x27;scale_and_impute&#x27;,\n",
       "                                                 ColumnTransformer(transformers=[(&#x27;mpg-tax&#x27;,\n",
       "                                                                                  Pipeline(steps=[(&#x27;impute&#x27;,\n",
       "                                                                                                   SimpleImputer()),\n",
       "                                                                                                  (&#x27;scale&#x27;,\n",
       "                                                                                                   MinMaxScaler())]),\n",
       "                                                                                  [&#x27;mpg&#x27;,\n",
       "                                                                                   &#x27;tax&#x27;])]))]))])</pre><b>Please rerun this cell to show the HTML repr or trust the notebook.</b></div><div class=\"sk-container\" hidden><div class=\"sk-item sk-dashed-wrapped\"><div class=\"sk-label-container\"><div class=\"sk-label sk-toggleable\"><input class=\"sk-toggleable__control sk-hidden--visually\" id=\"cc08f74e-68dc-4e8e-9005-a102bad4a6cc\" type=\"checkbox\" ><label for=\"cc08f74e-68dc-4e8e-9005-a102bad4a6cc\" class=\"sk-toggleable__label sk-toggleable__label-arrow\">Pipeline</label><div class=\"sk-toggleable__content\"><pre>Pipeline(steps=[(&#x27;features&#x27;,\n",
       "                 FeatureUnion(transformer_list=[(&#x27;one_hot_encode&#x27;,\n",
       "                                                 ColumnTransformer(transformers=[(&#x27;maker-transmission-fuelType&#x27;,\n",
       "                                                                                  OneHotEncoder(sparse=False),\n",
       "                                                                                  [&#x27;maker&#x27;,\n",
       "                                                                                   &#x27;transmission&#x27;,\n",
       "                                                                                   &#x27;fuelType&#x27;])])),\n",
       "                                                (&#x27;robust_encoding&#x27;,\n",
       "                                                 ColumnTransformer(transformers=[(&#x27;mileage&#x27;,\n",
       "                                                                                  RobustScaler(),\n",
       "                                                                                  [&#x27;mileage&#x27;])])),\n",
       "                                                (&#x27;just_pass&#x27;,\n",
       "                                                 ColumnTransformer(transformers=[(&#x27;pass&#x27;,\n",
       "                                                                                  &#x27;passthrough&#x27;,\n",
       "                                                                                  [&#x27;year&#x27;,\n",
       "                                                                                   &#x27;engineSize&#x27;])])),\n",
       "                                                (&#x27;scale_and_impute&#x27;,\n",
       "                                                 ColumnTransformer(transformers=[(&#x27;mpg-tax&#x27;,\n",
       "                                                                                  Pipeline(steps=[(&#x27;impute&#x27;,\n",
       "                                                                                                   SimpleImputer()),\n",
       "                                                                                                  (&#x27;scale&#x27;,\n",
       "                                                                                                   MinMaxScaler())]),\n",
       "                                                                                  [&#x27;mpg&#x27;,\n",
       "                                                                                   &#x27;tax&#x27;])]))]))])</pre></div></div></div><div class=\"sk-serial\"><div class=\"sk-item sk-dashed-wrapped\"><div class=\"sk-label-container\"><div class=\"sk-label sk-toggleable\"><input class=\"sk-toggleable__control sk-hidden--visually\" id=\"7544289f-e4d4-449b-8425-d3341c7815d8\" type=\"checkbox\" ><label for=\"7544289f-e4d4-449b-8425-d3341c7815d8\" class=\"sk-toggleable__label sk-toggleable__label-arrow\">features: FeatureUnion</label><div class=\"sk-toggleable__content\"><pre>FeatureUnion(transformer_list=[(&#x27;one_hot_encode&#x27;,\n",
       "                                ColumnTransformer(transformers=[(&#x27;maker-transmission-fuelType&#x27;,\n",
       "                                                                 OneHotEncoder(sparse=False),\n",
       "                                                                 [&#x27;maker&#x27;,\n",
       "                                                                  &#x27;transmission&#x27;,\n",
       "                                                                  &#x27;fuelType&#x27;])])),\n",
       "                               (&#x27;robust_encoding&#x27;,\n",
       "                                ColumnTransformer(transformers=[(&#x27;mileage&#x27;,\n",
       "                                                                 RobustScaler(),\n",
       "                                                                 [&#x27;mileage&#x27;])])),\n",
       "                               (&#x27;just_pass&#x27;,\n",
       "                                ColumnTransformer(transformers=[(&#x27;pass&#x27;,\n",
       "                                                                 &#x27;passthrough&#x27;,\n",
       "                                                                 [&#x27;year&#x27;,\n",
       "                                                                  &#x27;engineSize&#x27;])])),\n",
       "                               (&#x27;scale_and_impute&#x27;,\n",
       "                                ColumnTransformer(transformers=[(&#x27;mpg-tax&#x27;,\n",
       "                                                                 Pipeline(steps=[(&#x27;impute&#x27;,\n",
       "                                                                                  SimpleImputer()),\n",
       "                                                                                 (&#x27;scale&#x27;,\n",
       "                                                                                  MinMaxScaler())]),\n",
       "                                                                 [&#x27;mpg&#x27;,\n",
       "                                                                  &#x27;tax&#x27;])]))])</pre></div></div></div><div class=\"sk-parallel\"><div class=\"sk-parallel-item\"><div class=\"sk-item\"><div class=\"sk-label-container\"><div class=\"sk-label sk-toggleable\"><label>one_hot_encode</label></div></div><div class=\"sk-serial\"><div class=\"sk-item sk-dashed-wrapped\"><div class=\"sk-parallel\"><div class=\"sk-parallel-item\"><div class=\"sk-item\"><div class=\"sk-label-container\"><div class=\"sk-label sk-toggleable\"><input class=\"sk-toggleable__control sk-hidden--visually\" id=\"5628de28-0970-45c0-a7cd-0bb90ab7715e\" type=\"checkbox\" ><label for=\"5628de28-0970-45c0-a7cd-0bb90ab7715e\" class=\"sk-toggleable__label sk-toggleable__label-arrow\">maker-transmission-fuelType</label><div class=\"sk-toggleable__content\"><pre>[&#x27;maker&#x27;, &#x27;transmission&#x27;, &#x27;fuelType&#x27;]</pre></div></div></div><div class=\"sk-serial\"><div class=\"sk-item\"><div class=\"sk-estimator sk-toggleable\"><input class=\"sk-toggleable__control sk-hidden--visually\" id=\"d659c664-db00-42ff-874e-829b94d7446e\" type=\"checkbox\" ><label for=\"d659c664-db00-42ff-874e-829b94d7446e\" class=\"sk-toggleable__label sk-toggleable__label-arrow\">OneHotEncoder</label><div class=\"sk-toggleable__content\"><pre>OneHotEncoder(sparse=False)</pre></div></div></div></div></div></div></div></div></div></div></div><div class=\"sk-parallel-item\"><div class=\"sk-item\"><div class=\"sk-label-container\"><div class=\"sk-label sk-toggleable\"><label>robust_encoding</label></div></div><div class=\"sk-serial\"><div class=\"sk-item sk-dashed-wrapped\"><div class=\"sk-parallel\"><div class=\"sk-parallel-item\"><div class=\"sk-item\"><div class=\"sk-label-container\"><div class=\"sk-label sk-toggleable\"><input class=\"sk-toggleable__control sk-hidden--visually\" id=\"8323773c-3431-4bce-b761-2c7525f2f08f\" type=\"checkbox\" ><label for=\"8323773c-3431-4bce-b761-2c7525f2f08f\" class=\"sk-toggleable__label sk-toggleable__label-arrow\">mileage</label><div class=\"sk-toggleable__content\"><pre>[&#x27;mileage&#x27;]</pre></div></div></div><div class=\"sk-serial\"><div class=\"sk-item\"><div class=\"sk-estimator sk-toggleable\"><input class=\"sk-toggleable__control sk-hidden--visually\" id=\"31a94ca7-539b-45e8-98fa-999df5808c99\" type=\"checkbox\" ><label for=\"31a94ca7-539b-45e8-98fa-999df5808c99\" class=\"sk-toggleable__label sk-toggleable__label-arrow\">RobustScaler</label><div class=\"sk-toggleable__content\"><pre>RobustScaler()</pre></div></div></div></div></div></div></div></div></div></div></div><div class=\"sk-parallel-item\"><div class=\"sk-item\"><div class=\"sk-label-container\"><div class=\"sk-label sk-toggleable\"><label>just_pass</label></div></div><div class=\"sk-serial\"><div class=\"sk-item sk-dashed-wrapped\"><div class=\"sk-parallel\"><div class=\"sk-parallel-item\"><div class=\"sk-item\"><div class=\"sk-label-container\"><div class=\"sk-label sk-toggleable\"><input class=\"sk-toggleable__control sk-hidden--visually\" id=\"507d35f9-d71a-479b-9759-2522a2c1e71c\" type=\"checkbox\" ><label for=\"507d35f9-d71a-479b-9759-2522a2c1e71c\" class=\"sk-toggleable__label sk-toggleable__label-arrow\">pass</label><div class=\"sk-toggleable__content\"><pre>[&#x27;year&#x27;, &#x27;engineSize&#x27;]</pre></div></div></div><div class=\"sk-serial\"><div class=\"sk-item\"><div class=\"sk-estimator sk-toggleable\"><input class=\"sk-toggleable__control sk-hidden--visually\" id=\"ea2c82b2-9bef-4d73-8941-f626f0a70a5e\" type=\"checkbox\" ><label for=\"ea2c82b2-9bef-4d73-8941-f626f0a70a5e\" class=\"sk-toggleable__label sk-toggleable__label-arrow\">passthrough</label><div class=\"sk-toggleable__content\"><pre>passthrough</pre></div></div></div></div></div></div></div></div></div></div></div><div class=\"sk-parallel-item\"><div class=\"sk-item\"><div class=\"sk-label-container\"><div class=\"sk-label sk-toggleable\"><label>scale_and_impute</label></div></div><div class=\"sk-serial\"><div class=\"sk-item sk-dashed-wrapped\"><div class=\"sk-parallel\"><div class=\"sk-parallel-item\"><div class=\"sk-item\"><div class=\"sk-label-container\"><div class=\"sk-label sk-toggleable\"><input class=\"sk-toggleable__control sk-hidden--visually\" id=\"54740646-c243-4231-a49a-009fff071348\" type=\"checkbox\" ><label for=\"54740646-c243-4231-a49a-009fff071348\" class=\"sk-toggleable__label sk-toggleable__label-arrow\">mpg-tax</label><div class=\"sk-toggleable__content\"><pre>[&#x27;mpg&#x27;, &#x27;tax&#x27;]</pre></div></div></div><div class=\"sk-serial\"><div class=\"sk-item\"><div class=\"sk-serial\"><div class=\"sk-item\"><div class=\"sk-estimator sk-toggleable\"><input class=\"sk-toggleable__control sk-hidden--visually\" id=\"b4055d3f-92a1-42b5-adf3-8b1380c6b499\" type=\"checkbox\" ><label for=\"b4055d3f-92a1-42b5-adf3-8b1380c6b499\" class=\"sk-toggleable__label sk-toggleable__label-arrow\">SimpleImputer</label><div class=\"sk-toggleable__content\"><pre>SimpleImputer()</pre></div></div></div><div class=\"sk-item\"><div class=\"sk-estimator sk-toggleable\"><input class=\"sk-toggleable__control sk-hidden--visually\" id=\"e07610de-c458-4260-b3bf-02e37adbc5de\" type=\"checkbox\" ><label for=\"e07610de-c458-4260-b3bf-02e37adbc5de\" class=\"sk-toggleable__label sk-toggleable__label-arrow\">MinMaxScaler</label><div class=\"sk-toggleable__content\"><pre>MinMaxScaler()</pre></div></div></div></div></div></div></div></div></div></div></div></div></div></div></div></div></div></div></div>"
      ],
      "text/plain": [
       "Pipeline(steps=[('features',\n",
       "                 FeatureUnion(transformer_list=[('one_hot_encode',\n",
       "                                                 ColumnTransformer(transformers=[('maker-transmission-fuelType',\n",
       "                                                                                  OneHotEncoder(sparse=False),\n",
       "                                                                                  ['maker',\n",
       "                                                                                   'transmission',\n",
       "                                                                                   'fuelType'])])),\n",
       "                                                ('robust_encoding',\n",
       "                                                 ColumnTransformer(transformers=[('mileage',\n",
       "                                                                                  RobustScaler(),\n",
       "                                                                                  ['mileage'])])),\n",
       "                                                ('just_pass',\n",
       "                                                 ColumnTransformer(transformers=[('pass',\n",
       "                                                                                  'passthrough',\n",
       "                                                                                  ['year',\n",
       "                                                                                   'engineSize'])])),\n",
       "                                                ('scale_and_impute',\n",
       "                                                 ColumnTransformer(transformers=[('mpg-tax',\n",
       "                                                                                  Pipeline(steps=[('impute',\n",
       "                                                                                                   SimpleImputer()),\n",
       "                                                                                                  ('scale',\n",
       "                                                                                                   MinMaxScaler())]),\n",
       "                                                                                  ['mpg',\n",
       "                                                                                   'tax'])]))]))])"
      ]
     },
     "execution_count": 53,
     "metadata": {},
     "output_type": "execute_result"
    }
   ],
   "source": [
    "from sklearn import set_config\n",
    "\n",
    "set_config(display='diagram')\n",
    "pipe"
   ]
  },
  {
   "cell_type": "code",
   "execution_count": 54,
   "metadata": {},
   "outputs": [
    {
     "data": {
      "text/html": [
       "<style>#sk-baa79f30-c53a-4f41-bbc7-04a6a40f0504 {color: black;background-color: white;}#sk-baa79f30-c53a-4f41-bbc7-04a6a40f0504 pre{padding: 0;}#sk-baa79f30-c53a-4f41-bbc7-04a6a40f0504 div.sk-toggleable {background-color: white;}#sk-baa79f30-c53a-4f41-bbc7-04a6a40f0504 label.sk-toggleable__label {cursor: pointer;display: block;width: 100%;margin-bottom: 0;padding: 0.3em;box-sizing: border-box;text-align: center;}#sk-baa79f30-c53a-4f41-bbc7-04a6a40f0504 label.sk-toggleable__label-arrow:before {content: \"▸\";float: left;margin-right: 0.25em;color: #696969;}#sk-baa79f30-c53a-4f41-bbc7-04a6a40f0504 label.sk-toggleable__label-arrow:hover:before {color: black;}#sk-baa79f30-c53a-4f41-bbc7-04a6a40f0504 div.sk-estimator:hover label.sk-toggleable__label-arrow:before {color: black;}#sk-baa79f30-c53a-4f41-bbc7-04a6a40f0504 div.sk-toggleable__content {max-height: 0;max-width: 0;overflow: hidden;text-align: left;background-color: #f0f8ff;}#sk-baa79f30-c53a-4f41-bbc7-04a6a40f0504 div.sk-toggleable__content pre {margin: 0.2em;color: black;border-radius: 0.25em;background-color: #f0f8ff;}#sk-baa79f30-c53a-4f41-bbc7-04a6a40f0504 input.sk-toggleable__control:checked~div.sk-toggleable__content {max-height: 200px;max-width: 100%;overflow: auto;}#sk-baa79f30-c53a-4f41-bbc7-04a6a40f0504 input.sk-toggleable__control:checked~label.sk-toggleable__label-arrow:before {content: \"▾\";}#sk-baa79f30-c53a-4f41-bbc7-04a6a40f0504 div.sk-estimator input.sk-toggleable__control:checked~label.sk-toggleable__label {background-color: #d4ebff;}#sk-baa79f30-c53a-4f41-bbc7-04a6a40f0504 div.sk-label input.sk-toggleable__control:checked~label.sk-toggleable__label {background-color: #d4ebff;}#sk-baa79f30-c53a-4f41-bbc7-04a6a40f0504 input.sk-hidden--visually {border: 0;clip: rect(1px 1px 1px 1px);clip: rect(1px, 1px, 1px, 1px);height: 1px;margin: -1px;overflow: hidden;padding: 0;position: absolute;width: 1px;}#sk-baa79f30-c53a-4f41-bbc7-04a6a40f0504 div.sk-estimator {font-family: monospace;background-color: #f0f8ff;border: 1px dotted black;border-radius: 0.25em;box-sizing: border-box;margin-bottom: 0.5em;}#sk-baa79f30-c53a-4f41-bbc7-04a6a40f0504 div.sk-estimator:hover {background-color: #d4ebff;}#sk-baa79f30-c53a-4f41-bbc7-04a6a40f0504 div.sk-parallel-item::after {content: \"\";width: 100%;border-bottom: 1px solid gray;flex-grow: 1;}#sk-baa79f30-c53a-4f41-bbc7-04a6a40f0504 div.sk-label:hover label.sk-toggleable__label {background-color: #d4ebff;}#sk-baa79f30-c53a-4f41-bbc7-04a6a40f0504 div.sk-serial::before {content: \"\";position: absolute;border-left: 1px solid gray;box-sizing: border-box;top: 2em;bottom: 0;left: 50%;}#sk-baa79f30-c53a-4f41-bbc7-04a6a40f0504 div.sk-serial {display: flex;flex-direction: column;align-items: center;background-color: white;padding-right: 0.2em;padding-left: 0.2em;}#sk-baa79f30-c53a-4f41-bbc7-04a6a40f0504 div.sk-item {z-index: 1;}#sk-baa79f30-c53a-4f41-bbc7-04a6a40f0504 div.sk-parallel {display: flex;align-items: stretch;justify-content: center;background-color: white;}#sk-baa79f30-c53a-4f41-bbc7-04a6a40f0504 div.sk-parallel::before {content: \"\";position: absolute;border-left: 1px solid gray;box-sizing: border-box;top: 2em;bottom: 0;left: 50%;}#sk-baa79f30-c53a-4f41-bbc7-04a6a40f0504 div.sk-parallel-item {display: flex;flex-direction: column;position: relative;background-color: white;}#sk-baa79f30-c53a-4f41-bbc7-04a6a40f0504 div.sk-parallel-item:first-child::after {align-self: flex-end;width: 50%;}#sk-baa79f30-c53a-4f41-bbc7-04a6a40f0504 div.sk-parallel-item:last-child::after {align-self: flex-start;width: 50%;}#sk-baa79f30-c53a-4f41-bbc7-04a6a40f0504 div.sk-parallel-item:only-child::after {width: 0;}#sk-baa79f30-c53a-4f41-bbc7-04a6a40f0504 div.sk-dashed-wrapped {border: 1px dashed gray;margin: 0 0.4em 0.5em 0.4em;box-sizing: border-box;padding-bottom: 0.4em;background-color: white;position: relative;}#sk-baa79f30-c53a-4f41-bbc7-04a6a40f0504 div.sk-label label {font-family: monospace;font-weight: bold;background-color: white;display: inline-block;line-height: 1.2em;}#sk-baa79f30-c53a-4f41-bbc7-04a6a40f0504 div.sk-label-container {position: relative;z-index: 2;text-align: center;}#sk-baa79f30-c53a-4f41-bbc7-04a6a40f0504 div.sk-container {/* jupyter's `normalize.less` sets `[hidden] { display: none; }` but bootstrap.min.css set `[hidden] { display: none !important; }` so we also need the `!important` here to be able to override the default hidden behavior on the sphinx rendered scikit-learn.org. See: https://github.com/scikit-learn/scikit-learn/issues/21755 */display: inline-block !important;position: relative;}#sk-baa79f30-c53a-4f41-bbc7-04a6a40f0504 div.sk-text-repr-fallback {display: none;}</style><div id=\"sk-baa79f30-c53a-4f41-bbc7-04a6a40f0504\" class=\"sk-top-container\"><div class=\"sk-text-repr-fallback\"><pre>Pipeline(steps=[(&#x27;features&#x27;,\n",
       "                 FeatureUnion(transformer_list=[(&#x27;one_hot_encode&#x27;,\n",
       "                                                 ColumnTransformer(transformers=[(&#x27;maker-transmission-fuelType&#x27;,\n",
       "                                                                                  OneHotEncoder(sparse=False),\n",
       "                                                                                  [&#x27;maker&#x27;,\n",
       "                                                                                   &#x27;transmission&#x27;,\n",
       "                                                                                   &#x27;fuelType&#x27;])])),\n",
       "                                                (&#x27;robust_encoding&#x27;,\n",
       "                                                 ColumnTransformer(transformers=[(&#x27;mileage&#x27;,\n",
       "                                                                                  RobustScaler(),\n",
       "                                                                                  [&#x27;mileage&#x27;])])),\n",
       "                                                (&#x27;just_pass&#x27;,\n",
       "                                                 ColumnTransformer(transformers=[(&#x27;pass&#x27;,\n",
       "                                                                                  &#x27;passthrough&#x27;,\n",
       "                                                                                  [&#x27;year&#x27;,\n",
       "                                                                                   &#x27;engineSize&#x27;])])),\n",
       "                                                (&#x27;scale_and_impute&#x27;,\n",
       "                                                 ColumnTransformer(transformers=[(&#x27;mpg-tax&#x27;,\n",
       "                                                                                  Pipeline(steps=[(&#x27;impute&#x27;,\n",
       "                                                                                                   SimpleImputer()),\n",
       "                                                                                                  (&#x27;scale&#x27;,\n",
       "                                                                                                   MinMaxScaler())]),\n",
       "                                                                                  [&#x27;mpg&#x27;,\n",
       "                                                                                   &#x27;tax&#x27;])]))]))])</pre><b>Please rerun this cell to show the HTML repr or trust the notebook.</b></div><div class=\"sk-container\" hidden><div class=\"sk-item sk-dashed-wrapped\"><div class=\"sk-label-container\"><div class=\"sk-label sk-toggleable\"><input class=\"sk-toggleable__control sk-hidden--visually\" id=\"9d5c2254-6012-4931-935a-08e7db6ef337\" type=\"checkbox\" ><label for=\"9d5c2254-6012-4931-935a-08e7db6ef337\" class=\"sk-toggleable__label sk-toggleable__label-arrow\">Pipeline</label><div class=\"sk-toggleable__content\"><pre>Pipeline(steps=[(&#x27;features&#x27;,\n",
       "                 FeatureUnion(transformer_list=[(&#x27;one_hot_encode&#x27;,\n",
       "                                                 ColumnTransformer(transformers=[(&#x27;maker-transmission-fuelType&#x27;,\n",
       "                                                                                  OneHotEncoder(sparse=False),\n",
       "                                                                                  [&#x27;maker&#x27;,\n",
       "                                                                                   &#x27;transmission&#x27;,\n",
       "                                                                                   &#x27;fuelType&#x27;])])),\n",
       "                                                (&#x27;robust_encoding&#x27;,\n",
       "                                                 ColumnTransformer(transformers=[(&#x27;mileage&#x27;,\n",
       "                                                                                  RobustScaler(),\n",
       "                                                                                  [&#x27;mileage&#x27;])])),\n",
       "                                                (&#x27;just_pass&#x27;,\n",
       "                                                 ColumnTransformer(transformers=[(&#x27;pass&#x27;,\n",
       "                                                                                  &#x27;passthrough&#x27;,\n",
       "                                                                                  [&#x27;year&#x27;,\n",
       "                                                                                   &#x27;engineSize&#x27;])])),\n",
       "                                                (&#x27;scale_and_impute&#x27;,\n",
       "                                                 ColumnTransformer(transformers=[(&#x27;mpg-tax&#x27;,\n",
       "                                                                                  Pipeline(steps=[(&#x27;impute&#x27;,\n",
       "                                                                                                   SimpleImputer()),\n",
       "                                                                                                  (&#x27;scale&#x27;,\n",
       "                                                                                                   MinMaxScaler())]),\n",
       "                                                                                  [&#x27;mpg&#x27;,\n",
       "                                                                                   &#x27;tax&#x27;])]))]))])</pre></div></div></div><div class=\"sk-serial\"><div class=\"sk-item sk-dashed-wrapped\"><div class=\"sk-label-container\"><div class=\"sk-label sk-toggleable\"><input class=\"sk-toggleable__control sk-hidden--visually\" id=\"e0886c94-0e05-435e-b88e-1f7171f8b7ae\" type=\"checkbox\" ><label for=\"e0886c94-0e05-435e-b88e-1f7171f8b7ae\" class=\"sk-toggleable__label sk-toggleable__label-arrow\">features: FeatureUnion</label><div class=\"sk-toggleable__content\"><pre>FeatureUnion(transformer_list=[(&#x27;one_hot_encode&#x27;,\n",
       "                                ColumnTransformer(transformers=[(&#x27;maker-transmission-fuelType&#x27;,\n",
       "                                                                 OneHotEncoder(sparse=False),\n",
       "                                                                 [&#x27;maker&#x27;,\n",
       "                                                                  &#x27;transmission&#x27;,\n",
       "                                                                  &#x27;fuelType&#x27;])])),\n",
       "                               (&#x27;robust_encoding&#x27;,\n",
       "                                ColumnTransformer(transformers=[(&#x27;mileage&#x27;,\n",
       "                                                                 RobustScaler(),\n",
       "                                                                 [&#x27;mileage&#x27;])])),\n",
       "                               (&#x27;just_pass&#x27;,\n",
       "                                ColumnTransformer(transformers=[(&#x27;pass&#x27;,\n",
       "                                                                 &#x27;passthrough&#x27;,\n",
       "                                                                 [&#x27;year&#x27;,\n",
       "                                                                  &#x27;engineSize&#x27;])])),\n",
       "                               (&#x27;scale_and_impute&#x27;,\n",
       "                                ColumnTransformer(transformers=[(&#x27;mpg-tax&#x27;,\n",
       "                                                                 Pipeline(steps=[(&#x27;impute&#x27;,\n",
       "                                                                                  SimpleImputer()),\n",
       "                                                                                 (&#x27;scale&#x27;,\n",
       "                                                                                  MinMaxScaler())]),\n",
       "                                                                 [&#x27;mpg&#x27;,\n",
       "                                                                  &#x27;tax&#x27;])]))])</pre></div></div></div><div class=\"sk-parallel\"><div class=\"sk-parallel-item\"><div class=\"sk-item\"><div class=\"sk-label-container\"><div class=\"sk-label sk-toggleable\"><label>one_hot_encode</label></div></div><div class=\"sk-serial\"><div class=\"sk-item sk-dashed-wrapped\"><div class=\"sk-parallel\"><div class=\"sk-parallel-item\"><div class=\"sk-item\"><div class=\"sk-label-container\"><div class=\"sk-label sk-toggleable\"><input class=\"sk-toggleable__control sk-hidden--visually\" id=\"3a378d81-58ae-4070-bac2-536d80d11761\" type=\"checkbox\" ><label for=\"3a378d81-58ae-4070-bac2-536d80d11761\" class=\"sk-toggleable__label sk-toggleable__label-arrow\">maker-transmission-fuelType</label><div class=\"sk-toggleable__content\"><pre>[&#x27;maker&#x27;, &#x27;transmission&#x27;, &#x27;fuelType&#x27;]</pre></div></div></div><div class=\"sk-serial\"><div class=\"sk-item\"><div class=\"sk-estimator sk-toggleable\"><input class=\"sk-toggleable__control sk-hidden--visually\" id=\"9e496efe-6b17-43fb-8eef-31dd9d9a42f8\" type=\"checkbox\" ><label for=\"9e496efe-6b17-43fb-8eef-31dd9d9a42f8\" class=\"sk-toggleable__label sk-toggleable__label-arrow\">OneHotEncoder</label><div class=\"sk-toggleable__content\"><pre>OneHotEncoder(sparse=False)</pre></div></div></div></div></div></div></div></div></div></div></div><div class=\"sk-parallel-item\"><div class=\"sk-item\"><div class=\"sk-label-container\"><div class=\"sk-label sk-toggleable\"><label>robust_encoding</label></div></div><div class=\"sk-serial\"><div class=\"sk-item sk-dashed-wrapped\"><div class=\"sk-parallel\"><div class=\"sk-parallel-item\"><div class=\"sk-item\"><div class=\"sk-label-container\"><div class=\"sk-label sk-toggleable\"><input class=\"sk-toggleable__control sk-hidden--visually\" id=\"f1d56286-7302-4ce5-b844-26d46eb2a31f\" type=\"checkbox\" ><label for=\"f1d56286-7302-4ce5-b844-26d46eb2a31f\" class=\"sk-toggleable__label sk-toggleable__label-arrow\">mileage</label><div class=\"sk-toggleable__content\"><pre>[&#x27;mileage&#x27;]</pre></div></div></div><div class=\"sk-serial\"><div class=\"sk-item\"><div class=\"sk-estimator sk-toggleable\"><input class=\"sk-toggleable__control sk-hidden--visually\" id=\"b8d48096-c13b-464d-bb0c-d16a5334b8f9\" type=\"checkbox\" ><label for=\"b8d48096-c13b-464d-bb0c-d16a5334b8f9\" class=\"sk-toggleable__label sk-toggleable__label-arrow\">RobustScaler</label><div class=\"sk-toggleable__content\"><pre>RobustScaler()</pre></div></div></div></div></div></div></div></div></div></div></div><div class=\"sk-parallel-item\"><div class=\"sk-item\"><div class=\"sk-label-container\"><div class=\"sk-label sk-toggleable\"><label>just_pass</label></div></div><div class=\"sk-serial\"><div class=\"sk-item sk-dashed-wrapped\"><div class=\"sk-parallel\"><div class=\"sk-parallel-item\"><div class=\"sk-item\"><div class=\"sk-label-container\"><div class=\"sk-label sk-toggleable\"><input class=\"sk-toggleable__control sk-hidden--visually\" id=\"baa31c65-64a0-43d1-981f-51d7e78ddf0d\" type=\"checkbox\" ><label for=\"baa31c65-64a0-43d1-981f-51d7e78ddf0d\" class=\"sk-toggleable__label sk-toggleable__label-arrow\">pass</label><div class=\"sk-toggleable__content\"><pre>[&#x27;year&#x27;, &#x27;engineSize&#x27;]</pre></div></div></div><div class=\"sk-serial\"><div class=\"sk-item\"><div class=\"sk-estimator sk-toggleable\"><input class=\"sk-toggleable__control sk-hidden--visually\" id=\"f0d650b5-c4ce-4aac-837a-c06bf4b5fd06\" type=\"checkbox\" ><label for=\"f0d650b5-c4ce-4aac-837a-c06bf4b5fd06\" class=\"sk-toggleable__label sk-toggleable__label-arrow\">passthrough</label><div class=\"sk-toggleable__content\"><pre>passthrough</pre></div></div></div></div></div></div></div></div></div></div></div><div class=\"sk-parallel-item\"><div class=\"sk-item\"><div class=\"sk-label-container\"><div class=\"sk-label sk-toggleable\"><label>scale_and_impute</label></div></div><div class=\"sk-serial\"><div class=\"sk-item sk-dashed-wrapped\"><div class=\"sk-parallel\"><div class=\"sk-parallel-item\"><div class=\"sk-item\"><div class=\"sk-label-container\"><div class=\"sk-label sk-toggleable\"><input class=\"sk-toggleable__control sk-hidden--visually\" id=\"2d41c420-cf1b-4b8d-bbac-0b2abbffafc8\" type=\"checkbox\" ><label for=\"2d41c420-cf1b-4b8d-bbac-0b2abbffafc8\" class=\"sk-toggleable__label sk-toggleable__label-arrow\">mpg-tax</label><div class=\"sk-toggleable__content\"><pre>[&#x27;mpg&#x27;, &#x27;tax&#x27;]</pre></div></div></div><div class=\"sk-serial\"><div class=\"sk-item\"><div class=\"sk-serial\"><div class=\"sk-item\"><div class=\"sk-estimator sk-toggleable\"><input class=\"sk-toggleable__control sk-hidden--visually\" id=\"76156ad1-305c-4de6-b06a-3e3f77f8da55\" type=\"checkbox\" ><label for=\"76156ad1-305c-4de6-b06a-3e3f77f8da55\" class=\"sk-toggleable__label sk-toggleable__label-arrow\">SimpleImputer</label><div class=\"sk-toggleable__content\"><pre>SimpleImputer()</pre></div></div></div><div class=\"sk-item\"><div class=\"sk-estimator sk-toggleable\"><input class=\"sk-toggleable__control sk-hidden--visually\" id=\"deb481c1-b819-4c36-80a2-5af1bfc934e7\" type=\"checkbox\" ><label for=\"deb481c1-b819-4c36-80a2-5af1bfc934e7\" class=\"sk-toggleable__label sk-toggleable__label-arrow\">MinMaxScaler</label><div class=\"sk-toggleable__content\"><pre>MinMaxScaler()</pre></div></div></div></div></div></div></div></div></div></div></div></div></div></div></div></div></div></div></div>"
      ],
      "text/plain": [
       "Pipeline(steps=[('features',\n",
       "                 FeatureUnion(transformer_list=[('one_hot_encode',\n",
       "                                                 ColumnTransformer(transformers=[('maker-transmission-fuelType',\n",
       "                                                                                  OneHotEncoder(sparse=False),\n",
       "                                                                                  ['maker',\n",
       "                                                                                   'transmission',\n",
       "                                                                                   'fuelType'])])),\n",
       "                                                ('robust_encoding',\n",
       "                                                 ColumnTransformer(transformers=[('mileage',\n",
       "                                                                                  RobustScaler(),\n",
       "                                                                                  ['mileage'])])),\n",
       "                                                ('just_pass',\n",
       "                                                 ColumnTransformer(transformers=[('pass',\n",
       "                                                                                  'passthrough',\n",
       "                                                                                  ['year',\n",
       "                                                                                   'engineSize'])])),\n",
       "                                                ('scale_and_impute',\n",
       "                                                 ColumnTransformer(transformers=[('mpg-tax',\n",
       "                                                                                  Pipeline(steps=[('impute',\n",
       "                                                                                                   SimpleImputer()),\n",
       "                                                                                                  ('scale',\n",
       "                                                                                                   MinMaxScaler())]),\n",
       "                                                                                  ['mpg',\n",
       "                                                                                   'tax'])]))]))])"
      ]
     },
     "execution_count": 54,
     "metadata": {},
     "output_type": "execute_result"
    }
   ],
   "source": [
    "pipe.fit(train)"
   ]
  },
  {
   "cell_type": "code",
   "execution_count": 55,
   "metadata": {},
   "outputs": [
    {
     "data": {
      "text/plain": [
       "(63759, 25)"
      ]
     },
     "execution_count": 55,
     "metadata": {},
     "output_type": "execute_result"
    }
   ],
   "source": [
    "train_x = pipe.transform(train)\n",
    "train_x.shape"
   ]
  },
  {
   "cell_type": "markdown",
   "metadata": {},
   "source": [
    "## <p style=\"background-color:#ffb703; color:black; font-family:newtimeroman; font-size:200%; text-align:left; border-radius: 10px 10px;\"> 🗳️ Modelado </p>\n"
   ]
  },
  {
   "cell_type": "code",
   "execution_count": 57,
   "metadata": {},
   "outputs": [],
   "source": [
    "from sklearn.linear_model import LinearRegression\n",
    "\n",
    "lr = LinearRegression()"
   ]
  },
  {
   "cell_type": "code",
   "execution_count": 58,
   "metadata": {},
   "outputs": [],
   "source": [
    "predic_pipeline = Pipeline([\n",
    "    ('feature_engineering', pipe),\n",
    "    ('calculadora_precios', lr)\n",
    "])"
   ]
  },
  {
   "cell_type": "code",
   "execution_count": 59,
   "metadata": {},
   "outputs": [
    {
     "data": {
      "text/html": [
       "<style>#sk-1dfadcf4-7ae8-44a0-aaae-370366b085f8 {color: black;background-color: white;}#sk-1dfadcf4-7ae8-44a0-aaae-370366b085f8 pre{padding: 0;}#sk-1dfadcf4-7ae8-44a0-aaae-370366b085f8 div.sk-toggleable {background-color: white;}#sk-1dfadcf4-7ae8-44a0-aaae-370366b085f8 label.sk-toggleable__label {cursor: pointer;display: block;width: 100%;margin-bottom: 0;padding: 0.3em;box-sizing: border-box;text-align: center;}#sk-1dfadcf4-7ae8-44a0-aaae-370366b085f8 label.sk-toggleable__label-arrow:before {content: \"▸\";float: left;margin-right: 0.25em;color: #696969;}#sk-1dfadcf4-7ae8-44a0-aaae-370366b085f8 label.sk-toggleable__label-arrow:hover:before {color: black;}#sk-1dfadcf4-7ae8-44a0-aaae-370366b085f8 div.sk-estimator:hover label.sk-toggleable__label-arrow:before {color: black;}#sk-1dfadcf4-7ae8-44a0-aaae-370366b085f8 div.sk-toggleable__content {max-height: 0;max-width: 0;overflow: hidden;text-align: left;background-color: #f0f8ff;}#sk-1dfadcf4-7ae8-44a0-aaae-370366b085f8 div.sk-toggleable__content pre {margin: 0.2em;color: black;border-radius: 0.25em;background-color: #f0f8ff;}#sk-1dfadcf4-7ae8-44a0-aaae-370366b085f8 input.sk-toggleable__control:checked~div.sk-toggleable__content {max-height: 200px;max-width: 100%;overflow: auto;}#sk-1dfadcf4-7ae8-44a0-aaae-370366b085f8 input.sk-toggleable__control:checked~label.sk-toggleable__label-arrow:before {content: \"▾\";}#sk-1dfadcf4-7ae8-44a0-aaae-370366b085f8 div.sk-estimator input.sk-toggleable__control:checked~label.sk-toggleable__label {background-color: #d4ebff;}#sk-1dfadcf4-7ae8-44a0-aaae-370366b085f8 div.sk-label input.sk-toggleable__control:checked~label.sk-toggleable__label {background-color: #d4ebff;}#sk-1dfadcf4-7ae8-44a0-aaae-370366b085f8 input.sk-hidden--visually {border: 0;clip: rect(1px 1px 1px 1px);clip: rect(1px, 1px, 1px, 1px);height: 1px;margin: -1px;overflow: hidden;padding: 0;position: absolute;width: 1px;}#sk-1dfadcf4-7ae8-44a0-aaae-370366b085f8 div.sk-estimator {font-family: monospace;background-color: #f0f8ff;border: 1px dotted black;border-radius: 0.25em;box-sizing: border-box;margin-bottom: 0.5em;}#sk-1dfadcf4-7ae8-44a0-aaae-370366b085f8 div.sk-estimator:hover {background-color: #d4ebff;}#sk-1dfadcf4-7ae8-44a0-aaae-370366b085f8 div.sk-parallel-item::after {content: \"\";width: 100%;border-bottom: 1px solid gray;flex-grow: 1;}#sk-1dfadcf4-7ae8-44a0-aaae-370366b085f8 div.sk-label:hover label.sk-toggleable__label {background-color: #d4ebff;}#sk-1dfadcf4-7ae8-44a0-aaae-370366b085f8 div.sk-serial::before {content: \"\";position: absolute;border-left: 1px solid gray;box-sizing: border-box;top: 2em;bottom: 0;left: 50%;}#sk-1dfadcf4-7ae8-44a0-aaae-370366b085f8 div.sk-serial {display: flex;flex-direction: column;align-items: center;background-color: white;padding-right: 0.2em;padding-left: 0.2em;}#sk-1dfadcf4-7ae8-44a0-aaae-370366b085f8 div.sk-item {z-index: 1;}#sk-1dfadcf4-7ae8-44a0-aaae-370366b085f8 div.sk-parallel {display: flex;align-items: stretch;justify-content: center;background-color: white;}#sk-1dfadcf4-7ae8-44a0-aaae-370366b085f8 div.sk-parallel::before {content: \"\";position: absolute;border-left: 1px solid gray;box-sizing: border-box;top: 2em;bottom: 0;left: 50%;}#sk-1dfadcf4-7ae8-44a0-aaae-370366b085f8 div.sk-parallel-item {display: flex;flex-direction: column;position: relative;background-color: white;}#sk-1dfadcf4-7ae8-44a0-aaae-370366b085f8 div.sk-parallel-item:first-child::after {align-self: flex-end;width: 50%;}#sk-1dfadcf4-7ae8-44a0-aaae-370366b085f8 div.sk-parallel-item:last-child::after {align-self: flex-start;width: 50%;}#sk-1dfadcf4-7ae8-44a0-aaae-370366b085f8 div.sk-parallel-item:only-child::after {width: 0;}#sk-1dfadcf4-7ae8-44a0-aaae-370366b085f8 div.sk-dashed-wrapped {border: 1px dashed gray;margin: 0 0.4em 0.5em 0.4em;box-sizing: border-box;padding-bottom: 0.4em;background-color: white;position: relative;}#sk-1dfadcf4-7ae8-44a0-aaae-370366b085f8 div.sk-label label {font-family: monospace;font-weight: bold;background-color: white;display: inline-block;line-height: 1.2em;}#sk-1dfadcf4-7ae8-44a0-aaae-370366b085f8 div.sk-label-container {position: relative;z-index: 2;text-align: center;}#sk-1dfadcf4-7ae8-44a0-aaae-370366b085f8 div.sk-container {/* jupyter's `normalize.less` sets `[hidden] { display: none; }` but bootstrap.min.css set `[hidden] { display: none !important; }` so we also need the `!important` here to be able to override the default hidden behavior on the sphinx rendered scikit-learn.org. See: https://github.com/scikit-learn/scikit-learn/issues/21755 */display: inline-block !important;position: relative;}#sk-1dfadcf4-7ae8-44a0-aaae-370366b085f8 div.sk-text-repr-fallback {display: none;}</style><div id=\"sk-1dfadcf4-7ae8-44a0-aaae-370366b085f8\" class=\"sk-top-container\"><div class=\"sk-text-repr-fallback\"><pre>Pipeline(steps=[(&#x27;feature_engineering&#x27;,\n",
       "                 Pipeline(steps=[(&#x27;features&#x27;,\n",
       "                                  FeatureUnion(transformer_list=[(&#x27;one_hot_encode&#x27;,\n",
       "                                                                  ColumnTransformer(transformers=[(&#x27;maker-transmission-fuelType&#x27;,\n",
       "                                                                                                   OneHotEncoder(sparse=False),\n",
       "                                                                                                   [&#x27;maker&#x27;,\n",
       "                                                                                                    &#x27;transmission&#x27;,\n",
       "                                                                                                    &#x27;fuelType&#x27;])])),\n",
       "                                                                 (&#x27;robust_encoding&#x27;,\n",
       "                                                                  ColumnTransformer(transformers=[(&#x27;mileage&#x27;,\n",
       "                                                                                                   RobustScaler(),\n",
       "                                                                                                   [&#x27;mileage&#x27;])])),\n",
       "                                                                 (&#x27;just_pass&#x27;,\n",
       "                                                                  ColumnTransformer(transformers=[(&#x27;pass&#x27;,\n",
       "                                                                                                   &#x27;passthrough&#x27;,\n",
       "                                                                                                   [&#x27;year&#x27;,\n",
       "                                                                                                    &#x27;engineSize&#x27;])])),\n",
       "                                                                 (&#x27;scale_and_impute&#x27;,\n",
       "                                                                  ColumnTransformer(transformers=[(&#x27;mpg-tax&#x27;,\n",
       "                                                                                                   Pipeline(steps=[(&#x27;impute&#x27;,\n",
       "                                                                                                                    SimpleImputer()),\n",
       "                                                                                                                   (&#x27;scale&#x27;,\n",
       "                                                                                                                    MinMaxScaler())]),\n",
       "                                                                                                   [&#x27;mpg&#x27;,\n",
       "                                                                                                    &#x27;tax&#x27;])]))]))])),\n",
       "                (&#x27;calculadora_precios&#x27;, LinearRegression())])</pre><b>Please rerun this cell to show the HTML repr or trust the notebook.</b></div><div class=\"sk-container\" hidden><div class=\"sk-item sk-dashed-wrapped\"><div class=\"sk-label-container\"><div class=\"sk-label sk-toggleable\"><input class=\"sk-toggleable__control sk-hidden--visually\" id=\"a8400976-50b0-4d49-bc05-ad0d430d5b1e\" type=\"checkbox\" ><label for=\"a8400976-50b0-4d49-bc05-ad0d430d5b1e\" class=\"sk-toggleable__label sk-toggleable__label-arrow\">Pipeline</label><div class=\"sk-toggleable__content\"><pre>Pipeline(steps=[(&#x27;feature_engineering&#x27;,\n",
       "                 Pipeline(steps=[(&#x27;features&#x27;,\n",
       "                                  FeatureUnion(transformer_list=[(&#x27;one_hot_encode&#x27;,\n",
       "                                                                  ColumnTransformer(transformers=[(&#x27;maker-transmission-fuelType&#x27;,\n",
       "                                                                                                   OneHotEncoder(sparse=False),\n",
       "                                                                                                   [&#x27;maker&#x27;,\n",
       "                                                                                                    &#x27;transmission&#x27;,\n",
       "                                                                                                    &#x27;fuelType&#x27;])])),\n",
       "                                                                 (&#x27;robust_encoding&#x27;,\n",
       "                                                                  ColumnTransformer(transformers=[(&#x27;mileage&#x27;,\n",
       "                                                                                                   RobustScaler(),\n",
       "                                                                                                   [&#x27;mileage&#x27;])])),\n",
       "                                                                 (&#x27;just_pass&#x27;,\n",
       "                                                                  ColumnTransformer(transformers=[(&#x27;pass&#x27;,\n",
       "                                                                                                   &#x27;passthrough&#x27;,\n",
       "                                                                                                   [&#x27;year&#x27;,\n",
       "                                                                                                    &#x27;engineSize&#x27;])])),\n",
       "                                                                 (&#x27;scale_and_impute&#x27;,\n",
       "                                                                  ColumnTransformer(transformers=[(&#x27;mpg-tax&#x27;,\n",
       "                                                                                                   Pipeline(steps=[(&#x27;impute&#x27;,\n",
       "                                                                                                                    SimpleImputer()),\n",
       "                                                                                                                   (&#x27;scale&#x27;,\n",
       "                                                                                                                    MinMaxScaler())]),\n",
       "                                                                                                   [&#x27;mpg&#x27;,\n",
       "                                                                                                    &#x27;tax&#x27;])]))]))])),\n",
       "                (&#x27;calculadora_precios&#x27;, LinearRegression())])</pre></div></div></div><div class=\"sk-serial\"><div class=\"sk-item\"><div class=\"sk-label-container\"><div class=\"sk-label sk-toggleable\"><input class=\"sk-toggleable__control sk-hidden--visually\" id=\"009ecbbf-0639-4644-a19d-52394a2720cd\" type=\"checkbox\" ><label for=\"009ecbbf-0639-4644-a19d-52394a2720cd\" class=\"sk-toggleable__label sk-toggleable__label-arrow\">feature_engineering: Pipeline</label><div class=\"sk-toggleable__content\"><pre>Pipeline(steps=[(&#x27;features&#x27;,\n",
       "                 FeatureUnion(transformer_list=[(&#x27;one_hot_encode&#x27;,\n",
       "                                                 ColumnTransformer(transformers=[(&#x27;maker-transmission-fuelType&#x27;,\n",
       "                                                                                  OneHotEncoder(sparse=False),\n",
       "                                                                                  [&#x27;maker&#x27;,\n",
       "                                                                                   &#x27;transmission&#x27;,\n",
       "                                                                                   &#x27;fuelType&#x27;])])),\n",
       "                                                (&#x27;robust_encoding&#x27;,\n",
       "                                                 ColumnTransformer(transformers=[(&#x27;mileage&#x27;,\n",
       "                                                                                  RobustScaler(),\n",
       "                                                                                  [&#x27;mileage&#x27;])])),\n",
       "                                                (&#x27;just_pass&#x27;,\n",
       "                                                 ColumnTransformer(transformers=[(&#x27;pass&#x27;,\n",
       "                                                                                  &#x27;passthrough&#x27;,\n",
       "                                                                                  [&#x27;year&#x27;,\n",
       "                                                                                   &#x27;engineSize&#x27;])])),\n",
       "                                                (&#x27;scale_and_impute&#x27;,\n",
       "                                                 ColumnTransformer(transformers=[(&#x27;mpg-tax&#x27;,\n",
       "                                                                                  Pipeline(steps=[(&#x27;impute&#x27;,\n",
       "                                                                                                   SimpleImputer()),\n",
       "                                                                                                  (&#x27;scale&#x27;,\n",
       "                                                                                                   MinMaxScaler())]),\n",
       "                                                                                  [&#x27;mpg&#x27;,\n",
       "                                                                                   &#x27;tax&#x27;])]))]))])</pre></div></div></div><div class=\"sk-serial\"><div class=\"sk-item sk-dashed-wrapped\"><div class=\"sk-label-container\"><div class=\"sk-label sk-toggleable\"><input class=\"sk-toggleable__control sk-hidden--visually\" id=\"7c1af393-8194-4b2b-88cb-cf2e6d29313a\" type=\"checkbox\" ><label for=\"7c1af393-8194-4b2b-88cb-cf2e6d29313a\" class=\"sk-toggleable__label sk-toggleable__label-arrow\">features: FeatureUnion</label><div class=\"sk-toggleable__content\"><pre>FeatureUnion(transformer_list=[(&#x27;one_hot_encode&#x27;,\n",
       "                                ColumnTransformer(transformers=[(&#x27;maker-transmission-fuelType&#x27;,\n",
       "                                                                 OneHotEncoder(sparse=False),\n",
       "                                                                 [&#x27;maker&#x27;,\n",
       "                                                                  &#x27;transmission&#x27;,\n",
       "                                                                  &#x27;fuelType&#x27;])])),\n",
       "                               (&#x27;robust_encoding&#x27;,\n",
       "                                ColumnTransformer(transformers=[(&#x27;mileage&#x27;,\n",
       "                                                                 RobustScaler(),\n",
       "                                                                 [&#x27;mileage&#x27;])])),\n",
       "                               (&#x27;just_pass&#x27;,\n",
       "                                ColumnTransformer(transformers=[(&#x27;pass&#x27;,\n",
       "                                                                 &#x27;passthrough&#x27;,\n",
       "                                                                 [&#x27;year&#x27;,\n",
       "                                                                  &#x27;engineSize&#x27;])])),\n",
       "                               (&#x27;scale_and_impute&#x27;,\n",
       "                                ColumnTransformer(transformers=[(&#x27;mpg-tax&#x27;,\n",
       "                                                                 Pipeline(steps=[(&#x27;impute&#x27;,\n",
       "                                                                                  SimpleImputer()),\n",
       "                                                                                 (&#x27;scale&#x27;,\n",
       "                                                                                  MinMaxScaler())]),\n",
       "                                                                 [&#x27;mpg&#x27;,\n",
       "                                                                  &#x27;tax&#x27;])]))])</pre></div></div></div><div class=\"sk-parallel\"><div class=\"sk-parallel-item\"><div class=\"sk-item\"><div class=\"sk-label-container\"><div class=\"sk-label sk-toggleable\"><label>one_hot_encode</label></div></div><div class=\"sk-serial\"><div class=\"sk-item sk-dashed-wrapped\"><div class=\"sk-parallel\"><div class=\"sk-parallel-item\"><div class=\"sk-item\"><div class=\"sk-label-container\"><div class=\"sk-label sk-toggleable\"><input class=\"sk-toggleable__control sk-hidden--visually\" id=\"d5ca9465-2734-43e9-a08d-a7d4345c7e19\" type=\"checkbox\" ><label for=\"d5ca9465-2734-43e9-a08d-a7d4345c7e19\" class=\"sk-toggleable__label sk-toggleable__label-arrow\">maker-transmission-fuelType</label><div class=\"sk-toggleable__content\"><pre>[&#x27;maker&#x27;, &#x27;transmission&#x27;, &#x27;fuelType&#x27;]</pre></div></div></div><div class=\"sk-serial\"><div class=\"sk-item\"><div class=\"sk-estimator sk-toggleable\"><input class=\"sk-toggleable__control sk-hidden--visually\" id=\"bd8f240e-9eab-4a24-ba39-5798ac69e4e4\" type=\"checkbox\" ><label for=\"bd8f240e-9eab-4a24-ba39-5798ac69e4e4\" class=\"sk-toggleable__label sk-toggleable__label-arrow\">OneHotEncoder</label><div class=\"sk-toggleable__content\"><pre>OneHotEncoder(sparse=False)</pre></div></div></div></div></div></div></div></div></div></div></div><div class=\"sk-parallel-item\"><div class=\"sk-item\"><div class=\"sk-label-container\"><div class=\"sk-label sk-toggleable\"><label>robust_encoding</label></div></div><div class=\"sk-serial\"><div class=\"sk-item sk-dashed-wrapped\"><div class=\"sk-parallel\"><div class=\"sk-parallel-item\"><div class=\"sk-item\"><div class=\"sk-label-container\"><div class=\"sk-label sk-toggleable\"><input class=\"sk-toggleable__control sk-hidden--visually\" id=\"b5940644-26c9-453e-9d6f-4f26b09aee10\" type=\"checkbox\" ><label for=\"b5940644-26c9-453e-9d6f-4f26b09aee10\" class=\"sk-toggleable__label sk-toggleable__label-arrow\">mileage</label><div class=\"sk-toggleable__content\"><pre>[&#x27;mileage&#x27;]</pre></div></div></div><div class=\"sk-serial\"><div class=\"sk-item\"><div class=\"sk-estimator sk-toggleable\"><input class=\"sk-toggleable__control sk-hidden--visually\" id=\"6964fcb1-796c-4616-88ed-f3d05684b964\" type=\"checkbox\" ><label for=\"6964fcb1-796c-4616-88ed-f3d05684b964\" class=\"sk-toggleable__label sk-toggleable__label-arrow\">RobustScaler</label><div class=\"sk-toggleable__content\"><pre>RobustScaler()</pre></div></div></div></div></div></div></div></div></div></div></div><div class=\"sk-parallel-item\"><div class=\"sk-item\"><div class=\"sk-label-container\"><div class=\"sk-label sk-toggleable\"><label>just_pass</label></div></div><div class=\"sk-serial\"><div class=\"sk-item sk-dashed-wrapped\"><div class=\"sk-parallel\"><div class=\"sk-parallel-item\"><div class=\"sk-item\"><div class=\"sk-label-container\"><div class=\"sk-label sk-toggleable\"><input class=\"sk-toggleable__control sk-hidden--visually\" id=\"6c0becf3-d5d0-4d2e-81c8-22248f9ef4f2\" type=\"checkbox\" ><label for=\"6c0becf3-d5d0-4d2e-81c8-22248f9ef4f2\" class=\"sk-toggleable__label sk-toggleable__label-arrow\">pass</label><div class=\"sk-toggleable__content\"><pre>[&#x27;year&#x27;, &#x27;engineSize&#x27;]</pre></div></div></div><div class=\"sk-serial\"><div class=\"sk-item\"><div class=\"sk-estimator sk-toggleable\"><input class=\"sk-toggleable__control sk-hidden--visually\" id=\"293cd362-d443-4749-ad01-bbbed56eaedf\" type=\"checkbox\" ><label for=\"293cd362-d443-4749-ad01-bbbed56eaedf\" class=\"sk-toggleable__label sk-toggleable__label-arrow\">passthrough</label><div class=\"sk-toggleable__content\"><pre>passthrough</pre></div></div></div></div></div></div></div></div></div></div></div><div class=\"sk-parallel-item\"><div class=\"sk-item\"><div class=\"sk-label-container\"><div class=\"sk-label sk-toggleable\"><label>scale_and_impute</label></div></div><div class=\"sk-serial\"><div class=\"sk-item sk-dashed-wrapped\"><div class=\"sk-parallel\"><div class=\"sk-parallel-item\"><div class=\"sk-item\"><div class=\"sk-label-container\"><div class=\"sk-label sk-toggleable\"><input class=\"sk-toggleable__control sk-hidden--visually\" id=\"ae224a21-450f-4456-aa64-9ff6ae9a78a9\" type=\"checkbox\" ><label for=\"ae224a21-450f-4456-aa64-9ff6ae9a78a9\" class=\"sk-toggleable__label sk-toggleable__label-arrow\">mpg-tax</label><div class=\"sk-toggleable__content\"><pre>[&#x27;mpg&#x27;, &#x27;tax&#x27;]</pre></div></div></div><div class=\"sk-serial\"><div class=\"sk-item\"><div class=\"sk-serial\"><div class=\"sk-item\"><div class=\"sk-estimator sk-toggleable\"><input class=\"sk-toggleable__control sk-hidden--visually\" id=\"de475a5c-3a34-445a-88e8-4af6a4aef582\" type=\"checkbox\" ><label for=\"de475a5c-3a34-445a-88e8-4af6a4aef582\" class=\"sk-toggleable__label sk-toggleable__label-arrow\">SimpleImputer</label><div class=\"sk-toggleable__content\"><pre>SimpleImputer()</pre></div></div></div><div class=\"sk-item\"><div class=\"sk-estimator sk-toggleable\"><input class=\"sk-toggleable__control sk-hidden--visually\" id=\"48fdcac7-65ba-4807-93b4-0b681377b71a\" type=\"checkbox\" ><label for=\"48fdcac7-65ba-4807-93b4-0b681377b71a\" class=\"sk-toggleable__label sk-toggleable__label-arrow\">MinMaxScaler</label><div class=\"sk-toggleable__content\"><pre>MinMaxScaler()</pre></div></div></div></div></div></div></div></div></div></div></div></div></div></div></div></div></div><div class=\"sk-item\"><div class=\"sk-estimator sk-toggleable\"><input class=\"sk-toggleable__control sk-hidden--visually\" id=\"a1dd72e7-a941-4c5d-86a7-548ff14bb475\" type=\"checkbox\" ><label for=\"a1dd72e7-a941-4c5d-86a7-548ff14bb475\" class=\"sk-toggleable__label sk-toggleable__label-arrow\">LinearRegression</label><div class=\"sk-toggleable__content\"><pre>LinearRegression()</pre></div></div></div></div></div></div></div>"
      ],
      "text/plain": [
       "Pipeline(steps=[('feature_engineering',\n",
       "                 Pipeline(steps=[('features',\n",
       "                                  FeatureUnion(transformer_list=[('one_hot_encode',\n",
       "                                                                  ColumnTransformer(transformers=[('maker-transmission-fuelType',\n",
       "                                                                                                   OneHotEncoder(sparse=False),\n",
       "                                                                                                   ['maker',\n",
       "                                                                                                    'transmission',\n",
       "                                                                                                    'fuelType'])])),\n",
       "                                                                 ('robust_encoding',\n",
       "                                                                  ColumnTransformer(transformers=[('mileage',\n",
       "                                                                                                   RobustScaler(),\n",
       "                                                                                                   ['mileage'])])),\n",
       "                                                                 ('just_pass',\n",
       "                                                                  ColumnTransformer(transformers=[('pass',\n",
       "                                                                                                   'passthrough',\n",
       "                                                                                                   ['year',\n",
       "                                                                                                    'engineSize'])])),\n",
       "                                                                 ('scale_and_impute',\n",
       "                                                                  ColumnTransformer(transformers=[('mpg-tax',\n",
       "                                                                                                   Pipeline(steps=[('impute',\n",
       "                                                                                                                    SimpleImputer()),\n",
       "                                                                                                                   ('scale',\n",
       "                                                                                                                    MinMaxScaler())]),\n",
       "                                                                                                   ['mpg',\n",
       "                                                                                                    'tax'])]))]))])),\n",
       "                ('calculadora_precios', LinearRegression())])"
      ]
     },
     "execution_count": 59,
     "metadata": {},
     "output_type": "execute_result"
    }
   ],
   "source": [
    "set_config(display='diagram')\n",
    "predic_pipeline"
   ]
  },
  {
   "cell_type": "code",
   "execution_count": 60,
   "metadata": {},
   "outputs": [],
   "source": [
    "_ = predic_pipeline.fit(train, train['price'])"
   ]
  },
  {
   "cell_type": "code",
   "execution_count": 61,
   "metadata": {},
   "outputs": [],
   "source": [
    "train_pred = predic_pipeline.predict(train)\n",
    "val_pred = predic_pipeline.predict(val)"
   ]
  },
  {
   "cell_type": "code",
   "execution_count": 62,
   "metadata": {},
   "outputs": [
    {
     "data": {
      "text/html": [
       "<div>\n",
       "<style scoped>\n",
       "    .dataframe tbody tr th:only-of-type {\n",
       "        vertical-align: middle;\n",
       "    }\n",
       "\n",
       "    .dataframe tbody tr th {\n",
       "        vertical-align: top;\n",
       "    }\n",
       "\n",
       "    .dataframe thead th {\n",
       "        text-align: right;\n",
       "    }\n",
       "</style>\n",
       "<table border=\"1\" class=\"dataframe\">\n",
       "  <thead>\n",
       "    <tr style=\"text-align: right;\">\n",
       "      <th></th>\n",
       "      <th>real</th>\n",
       "      <th>predicted</th>\n",
       "    </tr>\n",
       "  </thead>\n",
       "  <tbody>\n",
       "    <tr>\n",
       "      <th>84398</th>\n",
       "      <td>10046</td>\n",
       "      <td>11003.75</td>\n",
       "    </tr>\n",
       "    <tr>\n",
       "      <th>80950</th>\n",
       "      <td>10500</td>\n",
       "      <td>11730.50</td>\n",
       "    </tr>\n",
       "    <tr>\n",
       "      <th>86050</th>\n",
       "      <td>22495</td>\n",
       "      <td>17809.25</td>\n",
       "    </tr>\n",
       "    <tr>\n",
       "      <th>82734</th>\n",
       "      <td>16495</td>\n",
       "      <td>17657.00</td>\n",
       "    </tr>\n",
       "    <tr>\n",
       "      <th>97881</th>\n",
       "      <td>29782</td>\n",
       "      <td>29174.75</td>\n",
       "    </tr>\n",
       "    <tr>\n",
       "      <th>...</th>\n",
       "      <td>...</td>\n",
       "      <td>...</td>\n",
       "    </tr>\n",
       "    <tr>\n",
       "      <th>30187</th>\n",
       "      <td>17995</td>\n",
       "      <td>18800.75</td>\n",
       "    </tr>\n",
       "    <tr>\n",
       "      <th>11654</th>\n",
       "      <td>15790</td>\n",
       "      <td>15731.50</td>\n",
       "    </tr>\n",
       "    <tr>\n",
       "      <th>25592</th>\n",
       "      <td>10695</td>\n",
       "      <td>17122.50</td>\n",
       "    </tr>\n",
       "    <tr>\n",
       "      <th>58347</th>\n",
       "      <td>13000</td>\n",
       "      <td>12159.50</td>\n",
       "    </tr>\n",
       "    <tr>\n",
       "      <th>86756</th>\n",
       "      <td>30995</td>\n",
       "      <td>24400.25</td>\n",
       "    </tr>\n",
       "  </tbody>\n",
       "</table>\n",
       "<p>21254 rows × 2 columns</p>\n",
       "</div>"
      ],
      "text/plain": [
       "        real  predicted\n",
       "84398  10046   11003.75\n",
       "80950  10500   11730.50\n",
       "86050  22495   17809.25\n",
       "82734  16495   17657.00\n",
       "97881  29782   29174.75\n",
       "...      ...        ...\n",
       "30187  17995   18800.75\n",
       "11654  15790   15731.50\n",
       "25592  10695   17122.50\n",
       "58347  13000   12159.50\n",
       "86756  30995   24400.25\n",
       "\n",
       "[21254 rows x 2 columns]"
      ]
     },
     "execution_count": 62,
     "metadata": {},
     "output_type": "execute_result"
    }
   ],
   "source": [
    "# Dataframe de salida para verificar los datos\n",
    "pd.DataFrame({'real':val['price'], 'predicted':val_pred})"
   ]
  },
  {
   "cell_type": "markdown",
   "metadata": {},
   "source": [
    "## <p style=\"background-color:#e5e5e5; color:black; font-family:newtimeroman; font-size:140%; text-align:left; border-radius: 10px 10px;\"> 🚫 Evaluar el modelo </p>\n",
    "\n"
   ]
  },
  {
   "cell_type": "code",
   "execution_count": 63,
   "metadata": {},
   "outputs": [],
   "source": [
    "from sklearn.metrics import mean_absolute_error\n",
    "from sklearn.metrics import mean_squared_error"
   ]
  },
  {
   "cell_type": "code",
   "execution_count": 68,
   "metadata": {},
   "outputs": [
    {
     "name": "stdout",
     "output_type": "stream",
     "text": [
      "\n",
      "      Entrenamiento MSE: 2922.32\n",
      "      Validacion MSE: 2950.35\n"
     ]
    }
   ],
   "source": [
    "train_mse = mean_absolute_error(train['price'], train_pred)\n",
    "val_mse = mean_absolute_error(val['price'], val_pred)\n",
    "\n",
    "print(f'''\n",
    "      Entrenamiento MSE: {train_mse:2.02f}\n",
    "      Validacion MSE: {val_mse:2.02f}''')"
   ]
  },
  {
   "cell_type": "markdown",
   "metadata": {},
   "source": [
    "## <p style=\"background-color:#ffb703; color:black; font-family:newtimeroman; font-size:200%; text-align:left; border-radius: 10px 10px;\"> 💾 Guardar Pipeline </p>\n"
   ]
  },
  {
   "cell_type": "code",
   "execution_count": 69,
   "metadata": {},
   "outputs": [
    {
     "data": {
      "text/plain": [
       "['car-prices.model']"
      ]
     },
     "execution_count": 69,
     "metadata": {},
     "output_type": "execute_result"
    }
   ],
   "source": [
    "from joblib import dump, load\n",
    "\n",
    "dump(predic_pipeline, 'car-prices.model')"
   ]
  },
  {
   "cell_type": "markdown",
   "metadata": {},
   "source": [
    "## <p style=\"background-color:#ffb703; color:black; font-family:newtimeroman; font-size:200%; text-align:left; border-radius: 10px 10px;\"> 🧪 Probar el modelo </p>\n",
    "\n",
    "Se puede utilizar un nuevo notebook, por comodidad, se cargara en este mismo\n"
   ]
  },
  {
   "cell_type": "code",
   "execution_count": 70,
   "metadata": {},
   "outputs": [],
   "source": [
    "# Para cargar el modelo que guardamos \n",
    "from joblib import load\n",
    "# Para el ejercicio, crearemos un dataframe con pandas\n",
    "import pandas as pd "
   ]
  },
  {
   "cell_type": "code",
   "execution_count": 72,
   "metadata": {},
   "outputs": [],
   "source": [
    "# Cargamos nuestro modelo en una variable\n",
    "saved_pipeline = load('car-prices.model')"
   ]
  },
  {
   "cell_type": "code",
   "execution_count": 73,
   "metadata": {},
   "outputs": [],
   "source": [
    "# Datos falsos para poder probar el modelo que se creo\n",
    "maker='ford'\n",
    "model='focus'\n",
    "year=2020\n",
    "transmission='Manual'\n",
    "mileage=50\n",
    "fuelType='Petrol'\n",
    "tax=100\n",
    "mpg=30\n",
    "engineSize=1.5\n",
    "\n",
    "carrito_prueba = pd.DataFrame({\n",
    "    'maker':[maker], 'model':[model], 'year':[year], 'transmission':[transmission], 'mileage':[mileage], 'fuelType':[fuelType], 'tax':[tax], 'mpg':[mpg], 'engineSize':[engineSize]\n",
    "})\n"
   ]
  },
  {
   "cell_type": "code",
   "execution_count": 74,
   "metadata": {},
   "outputs": [
    {
     "data": {
      "text/html": [
       "<div>\n",
       "<style scoped>\n",
       "    .dataframe tbody tr th:only-of-type {\n",
       "        vertical-align: middle;\n",
       "    }\n",
       "\n",
       "    .dataframe tbody tr th {\n",
       "        vertical-align: top;\n",
       "    }\n",
       "\n",
       "    .dataframe thead th {\n",
       "        text-align: right;\n",
       "    }\n",
       "</style>\n",
       "<table border=\"1\" class=\"dataframe\">\n",
       "  <thead>\n",
       "    <tr style=\"text-align: right;\">\n",
       "      <th></th>\n",
       "      <th>maker</th>\n",
       "      <th>model</th>\n",
       "      <th>year</th>\n",
       "      <th>transmission</th>\n",
       "      <th>mileage</th>\n",
       "      <th>fuelType</th>\n",
       "      <th>tax</th>\n",
       "      <th>mpg</th>\n",
       "      <th>engineSize</th>\n",
       "    </tr>\n",
       "  </thead>\n",
       "  <tbody>\n",
       "    <tr>\n",
       "      <th>0</th>\n",
       "      <td>ford</td>\n",
       "      <td>focus</td>\n",
       "      <td>2020</td>\n",
       "      <td>Manual</td>\n",
       "      <td>50</td>\n",
       "      <td>Petrol</td>\n",
       "      <td>100</td>\n",
       "      <td>30</td>\n",
       "      <td>1.5</td>\n",
       "    </tr>\n",
       "  </tbody>\n",
       "</table>\n",
       "</div>"
      ],
      "text/plain": [
       "  maker  model  year transmission  mileage fuelType  tax  mpg  engineSize\n",
       "0  ford  focus  2020       Manual       50   Petrol  100   30         1.5"
      ]
     },
     "execution_count": 74,
     "metadata": {},
     "output_type": "execute_result"
    }
   ],
   "source": [
    "carrito_prueba"
   ]
  },
  {
   "cell_type": "code",
   "execution_count": 76,
   "metadata": {},
   "outputs": [
    {
     "name": "stdout",
     "output_type": "stream",
     "text": [
      "El precio estimado de tu auto es de $ 22252.50\n"
     ]
    }
   ],
   "source": [
    "price = saved_pipeline.predict(carrito_prueba).squeeze()\n",
    "\n",
    "print(f'El precio estimado de tu auto es de $ {price:2.02f}')"
   ]
  }
 ],
 "metadata": {
  "interpreter": {
   "hash": "7c7891e7cf380ed489d75a267c4c9edc21b025f50aaae629f7ee24d6d95fc690"
  },
  "kernelspec": {
   "display_name": "Python 3.10.2 64-bit",
   "language": "python",
   "name": "python3"
  },
  "language_info": {
   "codemirror_mode": {
    "name": "ipython",
    "version": 3
   },
   "file_extension": ".py",
   "mimetype": "text/x-python",
   "name": "python",
   "nbconvert_exporter": "python",
   "pygments_lexer": "ipython3",
   "version": "3.10.2"
  },
  "orig_nbformat": 4
 },
 "nbformat": 4,
 "nbformat_minor": 2
}
