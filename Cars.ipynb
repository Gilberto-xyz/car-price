{
 "cells": [
  {
   "cell_type": "markdown",
   "metadata": {},
   "source": [
    "# <p style=\"background: #F58A07; color:white; font-size:250%; text-align:Center; border-radius: 20px 100px;\"> 💸 Precios de automoviles usados 💹 </p>\n"
   ]
  },
  {
   "cell_type": "markdown",
   "metadata": {},
   "source": [
    "## <p style=\"background-color:#ffb703; color:black; font-family:newtimeroman; font-size:200%; text-align:left; border-radius: 10px 10px;\"> 🔎 Análisis Exploratorio de Datos - EDA </p>"
   ]
  },
  {
   "cell_type": "code",
   "execution_count": 4,
   "metadata": {},
   "outputs": [
    {
     "data": {
      "text/html": [
       "<div>\n",
       "<style scoped>\n",
       "    .dataframe tbody tr th:only-of-type {\n",
       "        vertical-align: middle;\n",
       "    }\n",
       "\n",
       "    .dataframe tbody tr th {\n",
       "        vertical-align: top;\n",
       "    }\n",
       "\n",
       "    .dataframe thead th {\n",
       "        text-align: right;\n",
       "    }\n",
       "</style>\n",
       "<table border=\"1\" class=\"dataframe\">\n",
       "  <thead>\n",
       "    <tr style=\"text-align: right;\">\n",
       "      <th></th>\n",
       "      <th>maker</th>\n",
       "      <th>model</th>\n",
       "      <th>year</th>\n",
       "      <th>transmission</th>\n",
       "      <th>mileage</th>\n",
       "      <th>fuelType</th>\n",
       "      <th>tax</th>\n",
       "      <th>mpg</th>\n",
       "      <th>engineSize</th>\n",
       "      <th>price</th>\n",
       "    </tr>\n",
       "  </thead>\n",
       "  <tbody>\n",
       "    <tr>\n",
       "      <th>0</th>\n",
       "      <td>cclass</td>\n",
       "      <td>C Class</td>\n",
       "      <td>2020</td>\n",
       "      <td>Automatic</td>\n",
       "      <td>1200</td>\n",
       "      <td>Diesel</td>\n",
       "      <td>NaN</td>\n",
       "      <td>NaN</td>\n",
       "      <td>2.0</td>\n",
       "      <td>30495</td>\n",
       "    </tr>\n",
       "    <tr>\n",
       "      <th>1</th>\n",
       "      <td>cclass</td>\n",
       "      <td>C Class</td>\n",
       "      <td>2020</td>\n",
       "      <td>Automatic</td>\n",
       "      <td>1000</td>\n",
       "      <td>Petrol</td>\n",
       "      <td>NaN</td>\n",
       "      <td>NaN</td>\n",
       "      <td>1.5</td>\n",
       "      <td>29989</td>\n",
       "    </tr>\n",
       "    <tr>\n",
       "      <th>2</th>\n",
       "      <td>cclass</td>\n",
       "      <td>C Class</td>\n",
       "      <td>2020</td>\n",
       "      <td>Automatic</td>\n",
       "      <td>500</td>\n",
       "      <td>Diesel</td>\n",
       "      <td>NaN</td>\n",
       "      <td>NaN</td>\n",
       "      <td>2.0</td>\n",
       "      <td>37899</td>\n",
       "    </tr>\n",
       "    <tr>\n",
       "      <th>3</th>\n",
       "      <td>cclass</td>\n",
       "      <td>C Class</td>\n",
       "      <td>2019</td>\n",
       "      <td>Automatic</td>\n",
       "      <td>5000</td>\n",
       "      <td>Diesel</td>\n",
       "      <td>NaN</td>\n",
       "      <td>NaN</td>\n",
       "      <td>2.0</td>\n",
       "      <td>30399</td>\n",
       "    </tr>\n",
       "    <tr>\n",
       "      <th>4</th>\n",
       "      <td>cclass</td>\n",
       "      <td>C Class</td>\n",
       "      <td>2019</td>\n",
       "      <td>Automatic</td>\n",
       "      <td>4500</td>\n",
       "      <td>Diesel</td>\n",
       "      <td>NaN</td>\n",
       "      <td>NaN</td>\n",
       "      <td>2.0</td>\n",
       "      <td>29899</td>\n",
       "    </tr>\n",
       "  </tbody>\n",
       "</table>\n",
       "</div>"
      ],
      "text/plain": [
       "    maker     model  year transmission  mileage fuelType  tax  mpg  \\\n",
       "0  cclass   C Class  2020    Automatic     1200   Diesel  NaN  NaN   \n",
       "1  cclass   C Class  2020    Automatic     1000   Petrol  NaN  NaN   \n",
       "2  cclass   C Class  2020    Automatic      500   Diesel  NaN  NaN   \n",
       "3  cclass   C Class  2019    Automatic     5000   Diesel  NaN  NaN   \n",
       "4  cclass   C Class  2019    Automatic     4500   Diesel  NaN  NaN   \n",
       "\n",
       "   engineSize  price  \n",
       "0         2.0  30495  \n",
       "1         1.5  29989  \n",
       "2         2.0  37899  \n",
       "3         2.0  30399  \n",
       "4         2.0  29899  "
      ]
     },
     "execution_count": 4,
     "metadata": {},
     "output_type": "execute_result"
    }
   ],
   "source": [
    "# Librerias iniciales\n",
    "import pandas as pd \n",
    "\n",
    "# Carga del dataset\n",
    "cars = pd.read_csv('data/CarsUK.csv')\n",
    "\n",
    "# primeros 10 reguistros del dataset\n",
    "cars.head()"
   ]
  },
  {
   "cell_type": "code",
   "execution_count": 5,
   "metadata": {},
   "outputs": [],
   "source": [
    "from pandas_profiling import ProfileReport\n",
    "\n",
    "profile = ProfileReport(cars, title='Análisis del conjunto de datos de automóviles en bruto', explorative=True)"
   ]
  },
  {
   "cell_type": "code",
   "execution_count": 6,
   "metadata": {},
   "outputs": [
    {
     "name": "stderr",
     "output_type": "stream",
     "text": [
      "Summarize dataset: 100%|██████████| 61/61 [00:11<00:00,  5.14it/s, Completed]                     \n",
      "Generate report structure: 100%|██████████| 1/1 [00:02<00:00,  2.75s/it]\n",
      "Render HTML: 100%|██████████| 1/1 [00:01<00:00,  1.45s/it]\n",
      "Export report to file: 100%|██████████| 1/1 [00:00<00:00, 90.21it/s]\n"
     ]
    }
   ],
   "source": [
    "# Primeros pasos en el dataset, brinda una extensa información sobre el dataset, como la cantidad de registros, la cantidad de columnas, etc.\n",
    "# Tomando como punto de partida el reporte anterior, se puede decidir que hacer con los datos que se encuentran disponibles.\n",
    "\n",
    "profile.to_file('reporte_cars.html')"
   ]
  },
  {
   "cell_type": "markdown",
   "metadata": {},
   "source": [
    "## <p style=\"background-color:#ffb703; color:black; font-family:newtimeroman; font-size:200%; text-align:left; border-radius: 10px 10px;\"> 🔮 Feature engineering </p>"
   ]
  },
  {
   "cell_type": "code",
   "execution_count": 7,
   "metadata": {},
   "outputs": [
    {
     "data": {
      "text/plain": [
       "108540"
      ]
     },
     "execution_count": 7,
     "metadata": {},
     "output_type": "execute_result"
    }
   ],
   "source": [
    "# En el reporte se destaca que existen datos duplicados en el dataset. \n",
    "\n",
    "# Mostramos la cantidad de registros\n",
    "len(cars)"
   ]
  },
  {
   "cell_type": "code",
   "execution_count": 8,
   "metadata": {},
   "outputs": [
    {
     "data": {
      "text/plain": [
       "2273"
      ]
     },
     "execution_count": 8,
     "metadata": {},
     "output_type": "execute_result"
    }
   ],
   "source": [
    "# Mostramos la cantidad de registros duplicados\n",
    "cars.duplicated().sum()"
   ]
  },
  {
   "cell_type": "code",
   "execution_count": 9,
   "metadata": {},
   "outputs": [],
   "source": [
    "# Eliminamos los registros duplicados\n",
    "cars = cars.drop_duplicates(keep='first')"
   ]
  },
  {
   "cell_type": "code",
   "execution_count": 10,
   "metadata": {},
   "outputs": [
    {
     "data": {
      "text/plain": [
       "106267"
      ]
     },
     "execution_count": 10,
     "metadata": {},
     "output_type": "execute_result"
    }
   ],
   "source": [
    "# Mostramos la cantidad de registros (actualizado)\n",
    "len(cars)"
   ]
  },
  {
   "cell_type": "markdown",
   "metadata": {},
   "source": [
    "## <p style=\"background-color:#ffb703; color:black; font-family:newtimeroman; font-size:200%; text-align:left; border-radius: 10px 10px;\"> 🪓 Dividir el dataset </p>"
   ]
  },
  {
   "cell_type": "code",
   "execution_count": 11,
   "metadata": {},
   "outputs": [],
   "source": [
    "# Librerias para dividir mejor el dataset\n",
    "from sklearn.model_selection import train_test_split\n",
    "\n",
    "import numpy as np"
   ]
  },
  {
   "cell_type": "code",
   "execution_count": 12,
   "metadata": {},
   "outputs": [
    {
     "name": "stdout",
     "output_type": "stream",
     "text": [
      "[63759 21254 21254]\n",
      "[0.59998871 0.20000565 0.20000565]\n"
     ]
    }
   ],
   "source": [
    "\n",
    "rest, test = train_test_split(cars, test_size=0.2, shuffle=True) # 20% de 100 = 20\n",
    "\n",
    "train, val = train_test_split(rest, test_size=0.25,shuffle=True ) # 25% de 80 = 20\n",
    "\n",
    "distributions = np.array([len(train), len(val), len(test)])\n",
    "\n",
    "print(distributions)\n",
    "print(distributions/ len(cars))"
   ]
  },
  {
   "cell_type": "code",
   "execution_count": 13,
   "metadata": {},
   "outputs": [],
   "source": [
    "# ??cars.drop_duplicates"
   ]
  },
  {
   "cell_type": "code",
   "execution_count": 14,
   "metadata": {},
   "outputs": [
    {
     "data": {
      "text/html": [
       "<div>\n",
       "<style scoped>\n",
       "    .dataframe tbody tr th:only-of-type {\n",
       "        vertical-align: middle;\n",
       "    }\n",
       "\n",
       "    .dataframe tbody tr th {\n",
       "        vertical-align: top;\n",
       "    }\n",
       "\n",
       "    .dataframe thead th {\n",
       "        text-align: right;\n",
       "    }\n",
       "</style>\n",
       "<table border=\"1\" class=\"dataframe\">\n",
       "  <thead>\n",
       "    <tr style=\"text-align: right;\">\n",
       "      <th></th>\n",
       "      <th>maker</th>\n",
       "    </tr>\n",
       "  </thead>\n",
       "  <tbody>\n",
       "    <tr>\n",
       "      <th>17610</th>\n",
       "      <td>audi</td>\n",
       "    </tr>\n",
       "    <tr>\n",
       "      <th>16846</th>\n",
       "      <td>audi</td>\n",
       "    </tr>\n",
       "    <tr>\n",
       "      <th>47318</th>\n",
       "      <td>ford</td>\n",
       "    </tr>\n",
       "    <tr>\n",
       "      <th>95971</th>\n",
       "      <td>merc</td>\n",
       "    </tr>\n",
       "    <tr>\n",
       "      <th>103832</th>\n",
       "      <td>merc</td>\n",
       "    </tr>\n",
       "    <tr>\n",
       "      <th>...</th>\n",
       "      <td>...</td>\n",
       "    </tr>\n",
       "    <tr>\n",
       "      <th>95233</th>\n",
       "      <td>hyundi</td>\n",
       "    </tr>\n",
       "    <tr>\n",
       "      <th>12809</th>\n",
       "      <td>audi</td>\n",
       "    </tr>\n",
       "    <tr>\n",
       "      <th>3657</th>\n",
       "      <td>cclass</td>\n",
       "    </tr>\n",
       "    <tr>\n",
       "      <th>41962</th>\n",
       "      <td>ford</td>\n",
       "    </tr>\n",
       "    <tr>\n",
       "      <th>85703</th>\n",
       "      <td>vw</td>\n",
       "    </tr>\n",
       "  </tbody>\n",
       "</table>\n",
       "<p>63759 rows × 1 columns</p>\n",
       "</div>"
      ],
      "text/plain": [
       "         maker\n",
       "17610     audi\n",
       "16846     audi\n",
       "47318     ford\n",
       "95971     merc\n",
       "103832    merc\n",
       "...        ...\n",
       "95233   hyundi\n",
       "12809     audi\n",
       "3657    cclass\n",
       "41962     ford\n",
       "85703       vw\n",
       "\n",
       "[63759 rows x 1 columns]"
      ]
     },
     "execution_count": 14,
     "metadata": {},
     "output_type": "execute_result"
    }
   ],
   "source": [
    "## Cambiamos las variables categoricas a numericas mediante dummies/\n",
    "# Prueba en los valores maker == Fabricante \n",
    "\n",
    "# Valores originales\n",
    "train[['maker']]"
   ]
  },
  {
   "cell_type": "code",
   "execution_count": 15,
   "metadata": {},
   "outputs": [
    {
     "data": {
      "text/html": [
       "<div>\n",
       "<style scoped>\n",
       "    .dataframe tbody tr th:only-of-type {\n",
       "        vertical-align: middle;\n",
       "    }\n",
       "\n",
       "    .dataframe tbody tr th {\n",
       "        vertical-align: top;\n",
       "    }\n",
       "\n",
       "    .dataframe thead th {\n",
       "        text-align: right;\n",
       "    }\n",
       "</style>\n",
       "<table border=\"1\" class=\"dataframe\">\n",
       "  <thead>\n",
       "    <tr style=\"text-align: right;\">\n",
       "      <th></th>\n",
       "      <th>maker_audi</th>\n",
       "      <th>maker_bmw</th>\n",
       "      <th>maker_cclass</th>\n",
       "      <th>maker_focus</th>\n",
       "      <th>maker_ford</th>\n",
       "      <th>maker_hyundi</th>\n",
       "      <th>maker_merc</th>\n",
       "      <th>maker_skoda</th>\n",
       "      <th>maker_toyota</th>\n",
       "      <th>maker_vauxhall</th>\n",
       "      <th>maker_vw</th>\n",
       "    </tr>\n",
       "  </thead>\n",
       "  <tbody>\n",
       "    <tr>\n",
       "      <th>17610</th>\n",
       "      <td>1</td>\n",
       "      <td>0</td>\n",
       "      <td>0</td>\n",
       "      <td>0</td>\n",
       "      <td>0</td>\n",
       "      <td>0</td>\n",
       "      <td>0</td>\n",
       "      <td>0</td>\n",
       "      <td>0</td>\n",
       "      <td>0</td>\n",
       "      <td>0</td>\n",
       "    </tr>\n",
       "    <tr>\n",
       "      <th>16846</th>\n",
       "      <td>1</td>\n",
       "      <td>0</td>\n",
       "      <td>0</td>\n",
       "      <td>0</td>\n",
       "      <td>0</td>\n",
       "      <td>0</td>\n",
       "      <td>0</td>\n",
       "      <td>0</td>\n",
       "      <td>0</td>\n",
       "      <td>0</td>\n",
       "      <td>0</td>\n",
       "    </tr>\n",
       "    <tr>\n",
       "      <th>47318</th>\n",
       "      <td>0</td>\n",
       "      <td>0</td>\n",
       "      <td>0</td>\n",
       "      <td>0</td>\n",
       "      <td>1</td>\n",
       "      <td>0</td>\n",
       "      <td>0</td>\n",
       "      <td>0</td>\n",
       "      <td>0</td>\n",
       "      <td>0</td>\n",
       "      <td>0</td>\n",
       "    </tr>\n",
       "    <tr>\n",
       "      <th>95971</th>\n",
       "      <td>0</td>\n",
       "      <td>0</td>\n",
       "      <td>0</td>\n",
       "      <td>0</td>\n",
       "      <td>0</td>\n",
       "      <td>0</td>\n",
       "      <td>1</td>\n",
       "      <td>0</td>\n",
       "      <td>0</td>\n",
       "      <td>0</td>\n",
       "      <td>0</td>\n",
       "    </tr>\n",
       "    <tr>\n",
       "      <th>103832</th>\n",
       "      <td>0</td>\n",
       "      <td>0</td>\n",
       "      <td>0</td>\n",
       "      <td>0</td>\n",
       "      <td>0</td>\n",
       "      <td>0</td>\n",
       "      <td>1</td>\n",
       "      <td>0</td>\n",
       "      <td>0</td>\n",
       "      <td>0</td>\n",
       "      <td>0</td>\n",
       "    </tr>\n",
       "    <tr>\n",
       "      <th>...</th>\n",
       "      <td>...</td>\n",
       "      <td>...</td>\n",
       "      <td>...</td>\n",
       "      <td>...</td>\n",
       "      <td>...</td>\n",
       "      <td>...</td>\n",
       "      <td>...</td>\n",
       "      <td>...</td>\n",
       "      <td>...</td>\n",
       "      <td>...</td>\n",
       "      <td>...</td>\n",
       "    </tr>\n",
       "    <tr>\n",
       "      <th>95233</th>\n",
       "      <td>0</td>\n",
       "      <td>0</td>\n",
       "      <td>0</td>\n",
       "      <td>0</td>\n",
       "      <td>0</td>\n",
       "      <td>1</td>\n",
       "      <td>0</td>\n",
       "      <td>0</td>\n",
       "      <td>0</td>\n",
       "      <td>0</td>\n",
       "      <td>0</td>\n",
       "    </tr>\n",
       "    <tr>\n",
       "      <th>12809</th>\n",
       "      <td>1</td>\n",
       "      <td>0</td>\n",
       "      <td>0</td>\n",
       "      <td>0</td>\n",
       "      <td>0</td>\n",
       "      <td>0</td>\n",
       "      <td>0</td>\n",
       "      <td>0</td>\n",
       "      <td>0</td>\n",
       "      <td>0</td>\n",
       "      <td>0</td>\n",
       "    </tr>\n",
       "    <tr>\n",
       "      <th>3657</th>\n",
       "      <td>0</td>\n",
       "      <td>0</td>\n",
       "      <td>1</td>\n",
       "      <td>0</td>\n",
       "      <td>0</td>\n",
       "      <td>0</td>\n",
       "      <td>0</td>\n",
       "      <td>0</td>\n",
       "      <td>0</td>\n",
       "      <td>0</td>\n",
       "      <td>0</td>\n",
       "    </tr>\n",
       "    <tr>\n",
       "      <th>41962</th>\n",
       "      <td>0</td>\n",
       "      <td>0</td>\n",
       "      <td>0</td>\n",
       "      <td>0</td>\n",
       "      <td>1</td>\n",
       "      <td>0</td>\n",
       "      <td>0</td>\n",
       "      <td>0</td>\n",
       "      <td>0</td>\n",
       "      <td>0</td>\n",
       "      <td>0</td>\n",
       "    </tr>\n",
       "    <tr>\n",
       "      <th>85703</th>\n",
       "      <td>0</td>\n",
       "      <td>0</td>\n",
       "      <td>0</td>\n",
       "      <td>0</td>\n",
       "      <td>0</td>\n",
       "      <td>0</td>\n",
       "      <td>0</td>\n",
       "      <td>0</td>\n",
       "      <td>0</td>\n",
       "      <td>0</td>\n",
       "      <td>1</td>\n",
       "    </tr>\n",
       "  </tbody>\n",
       "</table>\n",
       "<p>63759 rows × 11 columns</p>\n",
       "</div>"
      ],
      "text/plain": [
       "        maker_audi  maker_bmw  maker_cclass  maker_focus  maker_ford  \\\n",
       "17610            1          0             0            0           0   \n",
       "16846            1          0             0            0           0   \n",
       "47318            0          0             0            0           1   \n",
       "95971            0          0             0            0           0   \n",
       "103832           0          0             0            0           0   \n",
       "...            ...        ...           ...          ...         ...   \n",
       "95233            0          0             0            0           0   \n",
       "12809            1          0             0            0           0   \n",
       "3657             0          0             1            0           0   \n",
       "41962            0          0             0            0           1   \n",
       "85703            0          0             0            0           0   \n",
       "\n",
       "        maker_hyundi  maker_merc  maker_skoda  maker_toyota  maker_vauxhall  \\\n",
       "17610              0           0            0             0               0   \n",
       "16846              0           0            0             0               0   \n",
       "47318              0           0            0             0               0   \n",
       "95971              0           1            0             0               0   \n",
       "103832             0           1            0             0               0   \n",
       "...              ...         ...          ...           ...             ...   \n",
       "95233              1           0            0             0               0   \n",
       "12809              0           0            0             0               0   \n",
       "3657               0           0            0             0               0   \n",
       "41962              0           0            0             0               0   \n",
       "85703              0           0            0             0               0   \n",
       "\n",
       "        maker_vw  \n",
       "17610          0  \n",
       "16846          0  \n",
       "47318          0  \n",
       "95971          0  \n",
       "103832         0  \n",
       "...          ...  \n",
       "95233          0  \n",
       "12809          0  \n",
       "3657           0  \n",
       "41962          0  \n",
       "85703          1  \n",
       "\n",
       "[63759 rows x 11 columns]"
      ]
     },
     "execution_count": 15,
     "metadata": {},
     "output_type": "execute_result"
    }
   ],
   "source": [
    "# Valores dummies\n",
    "pd.get_dummies(train[['maker']])\n",
    "\n",
    "# Aqui se dividen los valores originales en valores dummies (1 y 0) pero este no guarda el estado y mostramos una alternativa"
   ]
  },
  {
   "cell_type": "markdown",
   "metadata": {},
   "source": [
    "## <p style=\"background-color:#ffb703; color:black; font-family:newtimeroman; font-size:200%; text-align:left; border-radius: 10px 10px;\"> ✖️ One hot enconding </p>"
   ]
  },
  {
   "cell_type": "code",
   "execution_count": 16,
   "metadata": {},
   "outputs": [],
   "source": [
    "# Libreria para cambiar las variables categoricas a numericas\n",
    "from sklearn.preprocessing import OneHotEncoder"
   ]
  },
  {
   "cell_type": "code",
   "execution_count": 17,
   "metadata": {},
   "outputs": [],
   "source": [
    "# Se crea un objeto encoder\n",
    "make_encoder = OneHotEncoder()"
   ]
  },
  {
   "cell_type": "code",
   "execution_count": 18,
   "metadata": {},
   "outputs": [
    {
     "data": {
      "text/plain": [
       "OneHotEncoder()"
      ]
     },
     "execution_count": 18,
     "metadata": {},
     "output_type": "execute_result"
    }
   ],
   "source": [
    "# Se le pasa el dataset en la variable train\n",
    "make_encoder.fit(train[['maker']])\n"
   ]
  },
  {
   "cell_type": "code",
   "execution_count": 19,
   "metadata": {},
   "outputs": [
    {
     "data": {
      "text/plain": [
       "matrix([[1., 0., 0., ..., 0., 0., 0.],\n",
       "        [1., 0., 0., ..., 0., 0., 0.],\n",
       "        [0., 0., 0., ..., 0., 0., 0.],\n",
       "        ...,\n",
       "        [0., 0., 1., ..., 0., 0., 0.],\n",
       "        [0., 0., 0., ..., 0., 0., 0.],\n",
       "        [0., 0., 0., ..., 0., 0., 1.]])"
      ]
     },
     "execution_count": 19,
     "metadata": {},
     "output_type": "execute_result"
    }
   ],
   "source": [
    "# Matriz de valores al estilo dummies \n",
    "# mkr = make_encoder.transform(train[['maker']]) Original\n",
    "mkr = make_encoder.transform(train[['maker']]).todense() # Se transforma a una matriz densa\n",
    "mkr"
   ]
  },
  {
   "cell_type": "code",
   "execution_count": 20,
   "metadata": {},
   "outputs": [
    {
     "data": {
      "text/plain": [
       "[array(['audi', 'bmw', 'cclass', 'focus', 'ford', 'hyundi', 'merc',\n",
       "        'skoda', 'toyota', 'vauxhall', 'vw'], dtype=object)]"
      ]
     },
     "execution_count": 20,
     "metadata": {},
     "output_type": "execute_result"
    }
   ],
   "source": [
    "# Categorias dentro de la matriz del encoder \n",
    "make_encoder.categories_"
   ]
  },
  {
   "cell_type": "markdown",
   "metadata": {},
   "source": [
    "### pandas.get_dummies() vs encode()"
   ]
  },
  {
   "cell_type": "code",
   "execution_count": 21,
   "metadata": {},
   "outputs": [],
   "source": [
    "# En este ejemplo rapido se puede ver el funcionamiento segun las matrices de valores y seleccionar la que mejor se adapte a los datos\n",
    "test_maker = 'audi'"
   ]
  },
  {
   "cell_type": "code",
   "execution_count": 22,
   "metadata": {},
   "outputs": [
    {
     "data": {
      "text/html": [
       "<div>\n",
       "<style scoped>\n",
       "    .dataframe tbody tr th:only-of-type {\n",
       "        vertical-align: middle;\n",
       "    }\n",
       "\n",
       "    .dataframe tbody tr th {\n",
       "        vertical-align: top;\n",
       "    }\n",
       "\n",
       "    .dataframe thead th {\n",
       "        text-align: right;\n",
       "    }\n",
       "</style>\n",
       "<table border=\"1\" class=\"dataframe\">\n",
       "  <thead>\n",
       "    <tr style=\"text-align: right;\">\n",
       "      <th></th>\n",
       "      <th>audi</th>\n",
       "    </tr>\n",
       "  </thead>\n",
       "  <tbody>\n",
       "    <tr>\n",
       "      <th>0</th>\n",
       "      <td>1</td>\n",
       "    </tr>\n",
       "  </tbody>\n",
       "</table>\n",
       "</div>"
      ],
      "text/plain": [
       "   audi\n",
       "0     1"
      ]
     },
     "execution_count": 22,
     "metadata": {},
     "output_type": "execute_result"
    }
   ],
   "source": [
    "pd.get_dummies(test_maker)"
   ]
  },
  {
   "cell_type": "code",
   "execution_count": 23,
   "metadata": {},
   "outputs": [
    {
     "name": "stderr",
     "output_type": "stream",
     "text": [
      "C:\\Users\\G\\AppData\\Local\\Programs\\Python\\Python310\\lib\\site-packages\\sklearn\\base.py:450: UserWarning: X does not have valid feature names, but OneHotEncoder was fitted with feature names\n",
      "  warnings.warn(\n"
     ]
    },
    {
     "data": {
      "text/plain": [
       "matrix([[1., 0., 0., 0., 0., 0., 0., 0., 0., 0., 0.]])"
      ]
     },
     "execution_count": 23,
     "metadata": {},
     "output_type": "execute_result"
    }
   ],
   "source": [
    "make_encoder.transform([[test_maker]]).todense()"
   ]
  },
  {
   "cell_type": "markdown",
   "metadata": {},
   "source": [
    "\"Prefiero que el modelo falle a que realice una predicción incorrecta\" - Antonio Feregrino"
   ]
  },
  {
   "cell_type": "markdown",
   "metadata": {},
   "source": [
    "## <p style=\"background-color:#ffb703; color:black; font-family:newtimeroman; font-size:200%; text-align:left; border-radius: 10px 10px;\"> 📐 Feature Scaling </p>"
   ]
  },
  {
   "cell_type": "code",
   "execution_count": 24,
   "metadata": {},
   "outputs": [],
   "source": [
    "# Evitar que el modelo asigne mayor prioridad a una categoria que otra\n",
    "# Comprime valores mas grandes para que todos se encuentren en un rango similar \n",
    "\n",
    "# En sklearn exiten herramientas que permiten realizar esto de manera eficiente, mostrando variantes para cada caso\n",
    "from sklearn.preprocessing import RobustScaler, StandardScaler, MinMaxScaler, MaxAbsScaler"
   ]
  },
  {
   "cell_type": "code",
   "execution_count": 25,
   "metadata": {},
   "outputs": [],
   "source": [
    "# ejemplo con minmax\n",
    "scaler = MinMaxScaler()"
   ]
  },
  {
   "cell_type": "code",
   "execution_count": 26,
   "metadata": {},
   "outputs": [
    {
     "data": {
      "text/plain": [
       "MinMaxScaler()"
      ]
     },
     "execution_count": 26,
     "metadata": {},
     "output_type": "execute_result"
    }
   ],
   "source": [
    "scaler.fit(train[['mileage']])"
   ]
  },
  {
   "cell_type": "code",
   "execution_count": 27,
   "metadata": {},
   "outputs": [],
   "source": [
    "scaled = scaler.transform(train[['mileage']])"
   ]
  },
  {
   "cell_type": "code",
   "execution_count": 28,
   "metadata": {},
   "outputs": [
    {
     "data": {
      "text/plain": [
       "array([[0.12511803],\n",
       "       [0.2260038 ],\n",
       "       [0.10798176],\n",
       "       ...,\n",
       "       [0.15296642],\n",
       "       [0.0316162 ],\n",
       "       [0.126375  ]])"
      ]
     },
     "execution_count": 28,
     "metadata": {},
     "output_type": "execute_result"
    }
   ],
   "source": [
    "scaled"
   ]
  },
  {
   "cell_type": "code",
   "execution_count": 29,
   "metadata": {},
   "outputs": [],
   "source": [
    "# Demostracion de la transformacion\n",
    "values = pd.DataFrame({'mileage': train['mileage'].values, 'scaled':scaled.squeeze()})"
   ]
  },
  {
   "cell_type": "code",
   "execution_count": 30,
   "metadata": {},
   "outputs": [
    {
     "data": {
      "text/html": [
       "<div>\n",
       "<style scoped>\n",
       "    .dataframe tbody tr th:only-of-type {\n",
       "        vertical-align: middle;\n",
       "    }\n",
       "\n",
       "    .dataframe tbody tr th {\n",
       "        vertical-align: top;\n",
       "    }\n",
       "\n",
       "    .dataframe thead th {\n",
       "        text-align: right;\n",
       "    }\n",
       "</style>\n",
       "<table border=\"1\" class=\"dataframe\">\n",
       "  <thead>\n",
       "    <tr style=\"text-align: right;\">\n",
       "      <th></th>\n",
       "      <th>mileage</th>\n",
       "      <th>scaled</th>\n",
       "    </tr>\n",
       "  </thead>\n",
       "  <tbody>\n",
       "    <tr>\n",
       "      <th>15521</th>\n",
       "      <td>771</td>\n",
       "      <td>0.002384</td>\n",
       "    </tr>\n",
       "    <tr>\n",
       "      <th>41576</th>\n",
       "      <td>9135</td>\n",
       "      <td>0.028279</td>\n",
       "    </tr>\n",
       "    <tr>\n",
       "      <th>24616</th>\n",
       "      <td>9334</td>\n",
       "      <td>0.028895</td>\n",
       "    </tr>\n",
       "    <tr>\n",
       "      <th>44705</th>\n",
       "      <td>3000</td>\n",
       "      <td>0.009285</td>\n",
       "    </tr>\n",
       "    <tr>\n",
       "      <th>56973</th>\n",
       "      <td>4891</td>\n",
       "      <td>0.015139</td>\n",
       "    </tr>\n",
       "  </tbody>\n",
       "</table>\n",
       "</div>"
      ],
      "text/plain": [
       "       mileage    scaled\n",
       "15521      771  0.002384\n",
       "41576     9135  0.028279\n",
       "24616     9334  0.028895\n",
       "44705     3000  0.009285\n",
       "56973     4891  0.015139"
      ]
     },
     "execution_count": 30,
     "metadata": {},
     "output_type": "execute_result"
    }
   ],
   "source": [
    "values.sample(5)"
   ]
  },
  {
   "cell_type": "code",
   "execution_count": 31,
   "metadata": {},
   "outputs": [
    {
     "data": {
      "text/html": [
       "<div>\n",
       "<style scoped>\n",
       "    .dataframe tbody tr th:only-of-type {\n",
       "        vertical-align: middle;\n",
       "    }\n",
       "\n",
       "    .dataframe tbody tr th {\n",
       "        vertical-align: top;\n",
       "    }\n",
       "\n",
       "    .dataframe thead th {\n",
       "        text-align: right;\n",
       "    }\n",
       "</style>\n",
       "<table border=\"1\" class=\"dataframe\">\n",
       "  <thead>\n",
       "    <tr style=\"text-align: right;\">\n",
       "      <th></th>\n",
       "      <th>mileage</th>\n",
       "      <th>scaled</th>\n",
       "    </tr>\n",
       "  </thead>\n",
       "  <tbody>\n",
       "    <tr>\n",
       "      <th>count</th>\n",
       "      <td>63759.00000</td>\n",
       "      <td>63759.000000</td>\n",
       "    </tr>\n",
       "    <tr>\n",
       "      <th>mean</th>\n",
       "      <td>23256.84948</td>\n",
       "      <td>0.072000</td>\n",
       "    </tr>\n",
       "    <tr>\n",
       "      <th>std</th>\n",
       "      <td>21239.00740</td>\n",
       "      <td>0.065756</td>\n",
       "    </tr>\n",
       "    <tr>\n",
       "      <th>min</th>\n",
       "      <td>1.00000</td>\n",
       "      <td>0.000000</td>\n",
       "    </tr>\n",
       "    <tr>\n",
       "      <th>25%</th>\n",
       "      <td>7718.00000</td>\n",
       "      <td>0.023892</td>\n",
       "    </tr>\n",
       "    <tr>\n",
       "      <th>50%</th>\n",
       "      <td>17515.00000</td>\n",
       "      <td>0.054223</td>\n",
       "    </tr>\n",
       "    <tr>\n",
       "      <th>75%</th>\n",
       "      <td>32479.00000</td>\n",
       "      <td>0.100551</td>\n",
       "    </tr>\n",
       "    <tr>\n",
       "      <th>max</th>\n",
       "      <td>323000.00000</td>\n",
       "      <td>1.000000</td>\n",
       "    </tr>\n",
       "  </tbody>\n",
       "</table>\n",
       "</div>"
      ],
      "text/plain": [
       "            mileage        scaled\n",
       "count   63759.00000  63759.000000\n",
       "mean    23256.84948      0.072000\n",
       "std     21239.00740      0.065756\n",
       "min         1.00000      0.000000\n",
       "25%      7718.00000      0.023892\n",
       "50%     17515.00000      0.054223\n",
       "75%     32479.00000      0.100551\n",
       "max    323000.00000      1.000000"
      ]
     },
     "execution_count": 31,
     "metadata": {},
     "output_type": "execute_result"
    }
   ],
   "source": [
    "values.describe()"
   ]
  },
  {
   "cell_type": "markdown",
   "metadata": {},
   "source": [
    "## Ejemplo con dos escaladores"
   ]
  },
  {
   "cell_type": "code",
   "execution_count": 32,
   "metadata": {},
   "outputs": [],
   "source": [
    "escalador = MinMaxScaler()\n",
    "escalador2 = RobustScaler()\n",
    "\n",
    "escalador.fit(train[['mileage']])\n",
    "escalador2.fit(train[['mileage']])\n",
    "\n",
    "escalador = escalador.transform(train[['mileage']])\n",
    "escalador2 = escalador2.transform(train[['mileage']])\n"
   ]
  },
  {
   "cell_type": "code",
   "execution_count": 33,
   "metadata": {},
   "outputs": [
    {
     "data": {
      "text/html": [
       "<div>\n",
       "<style scoped>\n",
       "    .dataframe tbody tr th:only-of-type {\n",
       "        vertical-align: middle;\n",
       "    }\n",
       "\n",
       "    .dataframe tbody tr th {\n",
       "        vertical-align: top;\n",
       "    }\n",
       "\n",
       "    .dataframe thead th {\n",
       "        text-align: right;\n",
       "    }\n",
       "</style>\n",
       "<table border=\"1\" class=\"dataframe\">\n",
       "  <thead>\n",
       "    <tr style=\"text-align: right;\">\n",
       "      <th></th>\n",
       "      <th>mileage</th>\n",
       "      <th>MinMax</th>\n",
       "      <th>Robust</th>\n",
       "    </tr>\n",
       "  </thead>\n",
       "  <tbody>\n",
       "    <tr>\n",
       "      <th>7225</th>\n",
       "      <td>24386</td>\n",
       "      <td>0.075496</td>\n",
       "      <td>0.277493</td>\n",
       "    </tr>\n",
       "    <tr>\n",
       "      <th>35606</th>\n",
       "      <td>18549</td>\n",
       "      <td>0.057424</td>\n",
       "      <td>0.041759</td>\n",
       "    </tr>\n",
       "    <tr>\n",
       "      <th>21119</th>\n",
       "      <td>11330</td>\n",
       "      <td>0.035074</td>\n",
       "      <td>-0.249788</td>\n",
       "    </tr>\n",
       "    <tr>\n",
       "      <th>53810</th>\n",
       "      <td>30490</td>\n",
       "      <td>0.094393</td>\n",
       "      <td>0.524010</td>\n",
       "    </tr>\n",
       "    <tr>\n",
       "      <th>46554</th>\n",
       "      <td>11923</td>\n",
       "      <td>0.036910</td>\n",
       "      <td>-0.225839</td>\n",
       "    </tr>\n",
       "  </tbody>\n",
       "</table>\n",
       "</div>"
      ],
      "text/plain": [
       "       mileage    MinMax    Robust\n",
       "7225     24386  0.075496  0.277493\n",
       "35606    18549  0.057424  0.041759\n",
       "21119    11330  0.035074 -0.249788\n",
       "53810    30490  0.094393  0.524010\n",
       "46554    11923  0.036910 -0.225839"
      ]
     },
     "execution_count": 33,
     "metadata": {},
     "output_type": "execute_result"
    }
   ],
   "source": [
    "valores = pd.DataFrame({'mileage': train['mileage'].values, 'MinMax':escalador.squeeze(), 'Robust':escalador2.squeeze()})\n",
    "valores.sample(5)"
   ]
  },
  {
   "cell_type": "markdown",
   "metadata": {},
   "source": [
    "## <p style=\"background-color:#ffb703; color:black; font-family:newtimeroman; font-size:200%; text-align:left; border-radius: 10px 10px;\"> ⚙️ Artefactos </p>\n",
    "\n",
    "\n",
    "Herramientas que nos ayudan a convertir una observacion real en una predicción.\n",
    "Se recomienda ampliamente documentar los serializadores empleados al momento de general el modelo para tener puntos de referencia si algo falla al momentos de liberar en producción o al momento de replicar. "
   ]
  },
  {
   "cell_type": "code",
   "execution_count": 34,
   "metadata": {},
   "outputs": [],
   "source": [
    "# Libreria por excelencia para los serializadores\n",
    "import pickle\n",
    "\n",
    "with open('scaled.pickle', 'wb') as wb:\n",
    "    pickle.dump(scaled, wb)\n",
    "    \n",
    "with open('make_encoder.pickle', 'wb') as wb:\n",
    "    pickle.dump(make_encoder, wb)"
   ]
  },
  {
   "cell_type": "code",
   "execution_count": 41,
   "metadata": {},
   "outputs": [],
   "source": [
    "# Se pueden cargar los serializadores en otro notebook / script para testear la ejecucion\n",
    "\n",
    "import pickle\n",
    "\n",
    "with open('make_encoder.pickle', 'rb') as rb:\n",
    "    make_encoder = pickle.load(rb)"
   ]
  },
  {
   "cell_type": "code",
   "execution_count": 45,
   "metadata": {},
   "outputs": [
    {
     "data": {
      "text/plain": [
       "[array(['audi', 'bmw', 'cclass', 'focus', 'ford', 'hyundi', 'merc',\n",
       "        'skoda', 'toyota', 'vauxhall', 'vw'], dtype=object)]"
      ]
     },
     "execution_count": 45,
     "metadata": {},
     "output_type": "execute_result"
    }
   ],
   "source": [
    "# test del escalador\n",
    "make_encoder.categories_"
   ]
  },
  {
   "cell_type": "markdown",
   "metadata": {},
   "source": [
    "## <p style=\"background-color:#e5e5e5; color:black; font-family:newtimeroman; font-size:140%; text-align:left; border-radius: 10px 10px;\"> 📨 txt </p>\n",
    "\n"
   ]
  }
 ],
 "metadata": {
  "interpreter": {
   "hash": "7c7891e7cf380ed489d75a267c4c9edc21b025f50aaae629f7ee24d6d95fc690"
  },
  "kernelspec": {
   "display_name": "Python 3.10.2 64-bit",
   "language": "python",
   "name": "python3"
  },
  "language_info": {
   "codemirror_mode": {
    "name": "ipython",
    "version": 3
   },
   "file_extension": ".py",
   "mimetype": "text/x-python",
   "name": "python",
   "nbconvert_exporter": "python",
   "pygments_lexer": "ipython3",
   "version": "3.10.2"
  },
  "orig_nbformat": 4
 },
 "nbformat": 4,
 "nbformat_minor": 2
}
